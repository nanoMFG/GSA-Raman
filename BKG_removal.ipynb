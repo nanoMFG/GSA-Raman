{
 "cells": [
  {
   "cell_type": "code",
   "execution_count": 3,
   "metadata": {},
   "outputs": [],
   "source": [
    "import hublib\n",
    "import pandas as pd\n",
    "import ipywidgets as widgets\n",
    "from IPython.display import clear_output\n",
    "import matplotlib\n",
    "%matplotlib notebook\n",
    "import matplotlib.pyplot as plt\n",
    "import scipy\n",
    "import numpy as np\n",
    "from decimal import Decimal\n",
    "import unicodedata\n",
    "from unicodedata import lookup as GL\n",
    "import sympy as sy\n",
    "from joblib import Parallel, delayed\n",
    "from lmfit import Model\n",
    "import warnings\n",
    "import zipfile\n",
    "from zipfile import ZipFile\n",
    "import os\n",
    "# from hublib.ui import FileUpload, Download"
   ]
  },
  {
   "cell_type": "code",
   "execution_count": 4,
   "metadata": {},
   "outputs": [
    {
     "ename": "AttributeError",
     "evalue": "module 'pandas' has no attribute 'read_txt'",
     "output_type": "error",
     "traceback": [
      "\u001b[0;31m---------------------------------------------------------------------------\u001b[0m",
      "\u001b[0;31mAttributeError\u001b[0m                            Traceback (most recent call last)",
      "\u001b[0;32m<ipython-input-4-98ffd3776881>\u001b[0m in \u001b[0;36m<module>\u001b[0;34m\u001b[0m\n\u001b[1;32m      5\u001b[0m \u001b[0;31m# import the file. We usually allow users to upload their own file\u001b[0m\u001b[0;34m\u001b[0m\u001b[0;34m\u001b[0m\u001b[0;34m\u001b[0m\u001b[0m\n\u001b[1;32m      6\u001b[0m \u001b[0mpath\u001b[0m \u001b[0;34m=\u001b[0m \u001b[0;34m\"./data/raw/SS_20190529_1_4_clean.txt\"\u001b[0m\u001b[0;34m\u001b[0m\u001b[0;34m\u001b[0m\u001b[0m\n\u001b[0;32m----> 7\u001b[0;31m \u001b[0mdata\u001b[0m \u001b[0;34m=\u001b[0m \u001b[0mpd\u001b[0m\u001b[0;34m.\u001b[0m\u001b[0mread_txt\u001b[0m\u001b[0;34m(\u001b[0m\u001b[0mpath\u001b[0m\u001b[0;34m)\u001b[0m\u001b[0;34m\u001b[0m\u001b[0;34m\u001b[0m\u001b[0m\n\u001b[0m\u001b[1;32m      8\u001b[0m \u001b[0;34m\u001b[0m\u001b[0m\n\u001b[1;32m      9\u001b[0m \u001b[0;31m# calculate the number of rows and columns in the file.\u001b[0m\u001b[0;34m\u001b[0m\u001b[0;34m\u001b[0m\u001b[0;34m\u001b[0m\u001b[0m\n",
      "\u001b[0;31mAttributeError\u001b[0m: module 'pandas' has no attribute 'read_txt'"
     ]
    }
   ],
   "source": [
    "### Import spectrum and do preliminary calculation here\n",
    "### Output: I_raw(+ve), W\n",
    "\n",
    "\n",
    "# import the file. We usually allow users to upload their own file\n",
    "path = \"./data/raw/SS_20190529_1_4_clean.txt\"\n",
    "data = pd.read_txt(path)\n",
    "\n",
    "# calculate the number of rows and columns in the file. \n",
    "# We use this to determine the format of the file and import the data accordingly\n",
    "cols = data.shape[1]\n",
    "rows = data.shape[0]\n",
    "\n",
    "# import data as a DataFrame, such that the first column has the frequency and the second column has the intensity\n",
    "if cols == 1:\n",
    "    data = pd.Dataframe(data.iloc[0:row/2, 0], data.iloc[rows/2:rows, 0])\n",
    "elif cols == 2:\n",
    "    if type(data.iloc[0,0]) is str:\n",
    "        data = data.iloc[1:rows, :]\n",
    "    else: \n",
    "        data = data\n",
    "else: \n",
    "    data = []\n",
    "    \n",
    "# create the frequency and intensity numpy arrays\n",
    "frequency = np.array(data.iloc[:,0])\n",
    "intensity = np.array(data.iloc[:,1])\n",
    "length = len(frequency)\n",
    "\n",
    "# remove all negative values from the two arrays\n",
    "a = 0\n",
    "for i in range(length):\n",
    "    if frequency[i]<=0:\n",
    "        a = a + 1\n",
    "    else:\n",
    "        break\n",
    "frequency = frequency[a:]\n",
    "intensity = intensity[a:]\n",
    "\n",
    "# normalise the intenisty\n",
    "intensity_norm = []\n",
    "for i in intensity:\n",
    "    intensity_norm.append((i-np.min(intensity))/(np.max(intensity)-np.min(intensity)))"
   ]
  },
  {
   "cell_type": "code",
   "execution_count": null,
   "metadata": {},
   "outputs": [],
   "source": [
    "### Fit BL\n",
    "### Input: I_raw, W, *args (degree, here)\n",
    "### Output: I, W\n",
    "\n",
    "# define the baseline subtraction function\n",
    "def fit_BL(degree, x, y):\n",
    "    n = degree\n",
    "    I_raw = np.array(y)\n",
    "    W = np.array(x)\n",
    "    \n",
    "    # perform baseline fitting\n",
    "    polyx = np.array([W[0],W[int(len(W)/2)],W[len(W)-1]])\n",
    "    polyy = np.array([I_raw[0],I_raw[int(len(W)/2)],I_raw[len(W)-1]])        \n",
    "    bkgfit = np.polyfit(W,I_raw,degree)\n",
    "    bkgpoly = 0\n",
    "    for i in range(n):\n",
    "        bkgpoly = bkgpoly + (bkgfit[i]*W**(n-i))\n",
    "    I_raw = I_raw-bkgpoly\n",
    "    \n",
    "    # Flatten the baseline\n",
    "    m = (I_raw[len(W)-1]-I_raw[0])/(W[len(W)-1]-W[0])\n",
    "    b = I_raw[len(W)-1]-m*W[len(W)-1]\n",
    "    bkglin = m*W+b\n",
    "    I_raw = I_raw-bkglin\n",
    "    \n",
    "    # re-normalise the baseline subracted spectrum\n",
    "    I_BL = []\n",
    "    I_BL = ((I_raw-np.min(I_raw))/np.max(I_raw-np.min(I_raw)))\n",
    "    \n",
    "    return I_BL"
   ]
  },
  {
   "cell_type": "code",
   "execution_count": null,
   "metadata": {},
   "outputs": [],
   "source": [
    "y = intensity_norm\n",
    "window_length = 7\n",
    "polyorder = 2\n",
    "\n",
    "y_smooth = scipy.signal.savgol_filter(y, window_length, polyorder, deriv=0, delta=1.0, axis=- 1, mode='interp', cval=0.0)"
   ]
  },
  {
   "cell_type": "code",
   "execution_count": null,
   "metadata": {},
   "outputs": [],
   "source": [
    "### define parameters here. \n",
    "### Degree (so far, degree of baseline polynomial)\n",
    "\n",
    "degree = 3\n",
    "\n",
    "# call the baseline subtraction function\n",
    "I_BL = fit_BL(degree, frequency, y_smooth)"
   ]
  },
  {
   "cell_type": "code",
   "execution_count": null,
   "metadata": {},
   "outputs": [],
   "source": [
    "### Plot [I_raw vs W] & [I vs W]\n",
    "\n",
    "fig, ax = plt.subplots(nrows=2,ncols=1, figsize=(8,8)) # create a figure with sub-plots\n",
    "ax[0].plot(frequency, intensity_norm); # display the output image\n",
    "ax[1].plot(frequency, I_BL) # display the original image\n",
    "\n",
    "# label the images\n",
    "ax[0].set_title('Normalised Spectrum')\n",
    "ax[1].set_title('Baseline-subtracted Spectrum')"
   ]
  },
  {
   "cell_type": "code",
   "execution_count": null,
   "metadata": {},
   "outputs": [],
   "source": []
  }
 ],
 "metadata": {
  "kernelspec": {
   "display_name": "Python 3",
   "language": "python",
   "name": "python3"
  },
  "language_info": {
   "codemirror_mode": {
    "name": "ipython",
    "version": 3
   },
   "file_extension": ".py",
   "mimetype": "text/x-python",
   "name": "python",
   "nbconvert_exporter": "python",
   "pygments_lexer": "ipython3",
   "version": "3.7.7"
  }
 },
 "nbformat": 4,
 "nbformat_minor": 2
}
