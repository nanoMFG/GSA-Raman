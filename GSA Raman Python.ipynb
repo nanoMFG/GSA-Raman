{
 "cells": [
  {
   "cell_type": "code",
   "execution_count": 25,
   "metadata": {
    "extensions": {
     "jupyter_dashboards": {
      "version": 1,
      "views": {
       "grid_default": {
        "col": 0,
        "height": 6,
        "hidden": true,
        "row": 0,
        "width": 4
       },
       "report_default": {}
      }
     }
    }
   },
   "outputs": [
    {
     "name": "stdout",
     "output_type": "stream",
     "text": [
      "The oct2py.ipython extension is already loaded. To reload it, use:\n",
      "  %reload_ext oct2py.ipython\n"
     ]
    }
   ],
   "source": [
    "import hublib\n",
    "import hublib.use\n",
    "%use octave-4.2.0\n",
    "import oct2py\n",
    "%load_ext oct2py.ipython\n",
    "import pandas as pd\n",
    "import ipywidgets as widgets\n",
    "from IPython.display import display\n",
    "from IPython.display import clear_output\n",
    "from hublib.ui import FileUpload\n",
    "import matplotlib\n",
    "import matplotlib.pyplot as plt\n",
    "import scipy\n",
    "import numpy as np\n",
    "from decimal import Decimal\n",
    "%octave pkg load optim"
   ]
  },
  {
   "cell_type": "code",
   "execution_count": 26,
   "metadata": {
    "extensions": {
     "jupyter_dashboards": {
      "version": 1,
      "views": {
       "grid_default": {
        "col": 0,
        "height": 3,
        "hidden": false,
        "row": 0,
        "width": 6
       },
       "report_default": {}
      }
     }
    }
   },
   "outputs": [
    {
     "data": {
      "application/vnd.jupyter.widget-view+json": {
       "model_id": "a9a009bd593445038369201365318d75",
       "version_major": 2,
       "version_minor": 0
      },
      "text/html": [
       "<p>Failed to display Jupyter Widget of type <code>Box</code>.</p>\n",
       "<p>\n",
       "  If you're reading this message in the Jupyter Notebook or JupyterLab Notebook, it may mean\n",
       "  that the widgets JavaScript is still loading. If this message persists, it\n",
       "  likely means that the widgets JavaScript library is either not installed or\n",
       "  not enabled. See the <a href=\"https://ipywidgets.readthedocs.io/en/stable/user_install.html\">Jupyter\n",
       "  Widgets Documentation</a> for setup instructions.\n",
       "</p>\n",
       "<p>\n",
       "  If you're reading this message in another frontend (for example, a static\n",
       "  rendering on GitHub or <a href=\"https://nbviewer.jupyter.org/\">NBViewer</a>),\n",
       "  it may mean that your frontend doesn't currently support widgets.\n",
       "</p>\n"
      ],
      "text/plain": [
       "Box(children=(HTML(value='<p data-toggle=\"popover\" title=\"Raman data files should be uploaded as 2 column CSV files\">Please upload Raman spectra data file (CSV)</p>', layout=Layout(flex='2 1 auto')), FileWidget()), layout=Layout(border='solid 1px lightgray', display='flex', flex_flow='row', justify_content='space-between', width='auto'))"
      ]
     },
     "metadata": {},
     "output_type": "display_data"
    },
    {
     "name": "stdout",
     "output_type": "stream",
     "text": [
      "CB 2018022201_5.csv (length = 15280 bytes)\n",
      "CB 2018022201_7.csv (length = 15292 bytes)\n",
      "CB 1LGDat.csv (length = 15313 bytes)\n"
     ]
    }
   ],
   "source": [
    "# Create a callback function that will be called when files are uploaded\n",
    "def mycb(name, val):\n",
    "    print(\"CB %s (length = %s bytes)\" % (name, len(val)))\n",
    "    \n",
    "# this will allow you to select a single file to be uploaded\n",
    "f = FileUpload(\"Please upload Raman spectra data file (CSV)\", \n",
    "               \"Raman data files should be uploaded as 2 column CSV files\", \n",
    "                cb=mycb)\n",
    "f"
   ]
  },
  {
   "cell_type": "code",
   "execution_count": 27,
   "metadata": {
    "extensions": {
     "jupyter_dashboards": {
      "version": 1,
      "views": {
       "grid_default": {
        "col": 6,
        "height": 3,
        "hidden": false,
        "row": 0,
        "width": 2
       },
       "report_default": {}
      }
     }
    }
   },
   "outputs": [
    {
     "data": {
      "application/vnd.jupyter.widget-view+json": {
       "model_id": "ea8dca91c621429e960798277a893aa7",
       "version_major": 2,
       "version_minor": 0
      },
      "text/html": [
       "<p>Failed to display Jupyter Widget of type <code>Button</code>.</p>\n",
       "<p>\n",
       "  If you're reading this message in the Jupyter Notebook or JupyterLab Notebook, it may mean\n",
       "  that the widgets JavaScript is still loading. If this message persists, it\n",
       "  likely means that the widgets JavaScript library is either not installed or\n",
       "  not enabled. See the <a href=\"https://ipywidgets.readthedocs.io/en/stable/user_install.html\">Jupyter\n",
       "  Widgets Documentation</a> for setup instructions.\n",
       "</p>\n",
       "<p>\n",
       "  If you're reading this message in another frontend (for example, a static\n",
       "  rendering on GitHub or <a href=\"https://nbviewer.jupyter.org/\">NBViewer</a>),\n",
       "  it may mean that your frontend doesn't currently support widgets.\n",
       "</p>\n"
      ],
      "text/plain": [
       "Button(description='Do Fitting', style=ButtonStyle())"
      ]
     },
     "metadata": {},
     "output_type": "display_data"
    }
   ],
   "source": [
    "fit_but = widgets.Button(description='Do Fitting')\n",
    "    \n",
    "def fit_but_cb(change):\n",
    "    \n",
    "    f.save('tmpfile')\n",
    "    data = pd.read_csv('tmpfile')\n",
    "    W=data.Column1\n",
    "    W=np.array(W)\n",
    "    I_raw=data.Column2\n",
    "    I_raw=np.array(I_raw)\n",
    "    I=((I_raw-np.min(I_raw))/np.max(I_raw-np.min(I_raw)));\n",
    "    \n",
    "    pG=[np.max(I), 5, 1581.6] #a w b\n",
    "    pGp=[np.max(I), 18, 2675]\n",
    "    PG=%octave -i pG,W,I lsqcurvefit(@Single_Lorentz,pG,W,I);\n",
    "    PGp=%octave -i pGp,W,I lsqcurvefit(@Single_Lorentz,pGp,W,I,[0,0,2000],[max(I),100,3000]);\n",
    "    PG[1]=np.absolute(PG[1]);PGp[1]=np.absolute(PGp[1]); #FWHM sometimes returns - bc always squared\n",
    "    IGfit=%octave -i PG,W Single_Lorentz(PG,W);\n",
    "    IGpfit=%octave -i PGp,W Single_Lorentz(PGp,W);\n",
    "    IGfit=IGfit[0];IGpfit=IGpfit[0];\n",
    "    If=IGfit+IGpfit;\n",
    "    \n",
    "    Cdat=np.load('Cfits.npy')\n",
    "\n",
    "    diffs_lin=[];diffs_Gp=[];\n",
    "    diffs=[];\n",
    "    for d in range(6):\n",
    "        \n",
    "        LG=Cdat[d][0];\n",
    "        LGp=Cdat[d][1];\n",
    "        LGfit=%octave -i LG,W Single_Lorentz(LG,W); \n",
    "        LGpfit=%octave -i LGp,W Single_Lorentz(LGp,W);\n",
    "        Lf=(LGfit+LGpfit)\n",
    " \n",
    "        dfGp=np.average(np.absolute(100*(PGp-LGp)/LGp))\n",
    "        dfG=np.average(np.absolute(100*(PG-LG)/LG))\n",
    "        df=np.average([dfGp,dfG])\n",
    "        diffs.append(df)\n",
    "  \n",
    "    md=np.min(diffs)\n",
    "    mdi=np.argmin(diffs)\n",
    "\n",
    "    mG=Cdat[mdi][0];mGp=Cdat[mdi][1];\n",
    "    mGfit=%octave -i mG,W Single_Lorentz(mG,W);\n",
    "    mGpfit=%octave -i mGp,W Single_Lorentz(mGp,W);\n",
    "    mf=mGfit+mGpfit;mf=mf[0]\n",
    "    \n",
    "    with diffsplot:\n",
    "        clear_output()\n",
    "        plt.plot(diffs,'kv')\n",
    "        plt.plot(mdi,md,'gv')\n",
    "        plt.annotate((round(Decimal(md),2)),xy=(mdi,1.2*md))\n",
    "        plt.xticks(range(6),('1','2','3','4','5','Graphite'))\n",
    "        plt.xlabel('# Layers')\n",
    "        plt.ylabel('$\\Delta$ [%]')\n",
    "        plt.show()\n",
    "    with datplot:\n",
    "        clear_output()\n",
    "        plt.plot(W,I,'b',W,If,'r',W,mf,'g')\n",
    "        plt.xlabel('$\\omega$ $[cm^{-1}]$')\n",
    "        plt.ylabel('$I_{norm}$ [arb]')\n",
    "        plt.legend(labels=['Raw','Fit','Test'])\n",
    "        plt.show()\n",
    "\n",
    "fit_but.on_click(fit_but_cb)\n",
    "fit_but"
   ]
  },
  {
   "cell_type": "code",
   "execution_count": 28,
   "metadata": {
    "extensions": {
     "jupyter_dashboards": {
      "version": 1,
      "views": {
       "grid_default": {
        "col": 0,
        "height": 9,
        "hidden": false,
        "row": 3,
        "width": 4
       },
       "report_default": {}
      }
     }
    }
   },
   "outputs": [
    {
     "data": {
      "application/vnd.jupyter.widget-view+json": {
       "model_id": "bd61ec81b2084a769517b9c05f1ea620",
       "version_major": 2,
       "version_minor": 0
      },
      "text/html": [
       "<p>Failed to display Jupyter Widget of type <code>Output</code>.</p>\n",
       "<p>\n",
       "  If you're reading this message in the Jupyter Notebook or JupyterLab Notebook, it may mean\n",
       "  that the widgets JavaScript is still loading. If this message persists, it\n",
       "  likely means that the widgets JavaScript library is either not installed or\n",
       "  not enabled. See the <a href=\"https://ipywidgets.readthedocs.io/en/stable/user_install.html\">Jupyter\n",
       "  Widgets Documentation</a> for setup instructions.\n",
       "</p>\n",
       "<p>\n",
       "  If you're reading this message in another frontend (for example, a static\n",
       "  rendering on GitHub or <a href=\"https://nbviewer.jupyter.org/\">NBViewer</a>),\n",
       "  it may mean that your frontend doesn't currently support widgets.\n",
       "</p>\n"
      ],
      "text/plain": [
       "Output()"
      ]
     },
     "metadata": {},
     "output_type": "display_data"
    }
   ],
   "source": [
    "diffsplot=widgets.Output();diffsplot"
   ]
  },
  {
   "cell_type": "code",
   "execution_count": 29,
   "metadata": {
    "extensions": {
     "jupyter_dashboards": {
      "version": 1,
      "views": {
       "grid_default": {
        "col": 4,
        "height": 9,
        "hidden": false,
        "row": 3,
        "width": 4
       },
       "report_default": {}
      }
     }
    }
   },
   "outputs": [
    {
     "data": {
      "application/vnd.jupyter.widget-view+json": {
       "model_id": "5d3f8ae2af5242e987c8781895be6728",
       "version_major": 2,
       "version_minor": 0
      },
      "text/html": [
       "<p>Failed to display Jupyter Widget of type <code>Output</code>.</p>\n",
       "<p>\n",
       "  If you're reading this message in the Jupyter Notebook or JupyterLab Notebook, it may mean\n",
       "  that the widgets JavaScript is still loading. If this message persists, it\n",
       "  likely means that the widgets JavaScript library is either not installed or\n",
       "  not enabled. See the <a href=\"https://ipywidgets.readthedocs.io/en/stable/user_install.html\">Jupyter\n",
       "  Widgets Documentation</a> for setup instructions.\n",
       "</p>\n",
       "<p>\n",
       "  If you're reading this message in another frontend (for example, a static\n",
       "  rendering on GitHub or <a href=\"https://nbviewer.jupyter.org/\">NBViewer</a>),\n",
       "  it may mean that your frontend doesn't currently support widgets.\n",
       "</p>\n"
      ],
      "text/plain": [
       "Output()"
      ]
     },
     "metadata": {},
     "output_type": "display_data"
    }
   ],
   "source": [
    "datplot=widgets.Output();datplot"
   ]
  }
 ],
 "metadata": {
  "extensions": {
   "jupyter_dashboards": {
    "activeView": "grid_default",
    "version": 1,
    "views": {
     "grid_default": {
      "cellMargin": 10,
      "defaultCellHeight": 20,
      "maxColumns": 12,
      "name": "grid",
      "type": "grid"
     },
     "report_default": {
      "name": "report",
      "type": "report"
     }
    }
   }
  },
  "kernelspec": {
   "display_name": "Python3",
   "language": "python",
   "name": "python3"
  },
  "language_info": {
   "codemirror_mode": {
    "name": "ipython",
    "version": 3
   },
   "file_extension": ".py",
   "mimetype": "text/x-python",
   "name": "python",
   "nbconvert_exporter": "python",
   "pygments_lexer": "ipython3",
   "version": "3.6.2"
  }
 },
 "nbformat": 4,
 "nbformat_minor": 2
}
