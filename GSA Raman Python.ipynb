{
 "cells": [
  {
   "cell_type": "code",
   "execution_count": 1,
   "metadata": {
    "extensions": {
     "jupyter_dashboards": {
      "version": 1,
      "views": {
       "grid_default": {
        "col": 0,
        "height": 6,
        "hidden": true,
        "row": 0,
        "width": 4
       },
       "report_default": {}
      }
     }
    }
   },
   "outputs": [],
   "source": [
    "import hublib\n",
    "import hublib.use\n",
    "%use octave-4.2.0\n",
    "import oct2py\n",
    "%load_ext oct2py.ipython\n",
    "import pandas as pd\n",
    "import ipywidgets as widgets\n",
    "from IPython.display import clear_output\n",
    "import matplotlib\n",
    "import matplotlib.pyplot as plt\n",
    "import scipy\n",
    "import numpy as np\n",
    "from decimal import Decimal\n",
    "%octave pkg load optim\n",
    "import unicodedata\n",
    "from unicodedata import lookup as GL\n",
    "import sympy as sy\n",
    "import time"
   ]
  },
  {
   "cell_type": "code",
   "execution_count": 2,
   "metadata": {
    "extensions": {
     "jupyter_dashboards": {
      "version": 1,
      "views": {
       "grid_default": {
        "col": 0,
        "height": 2,
        "hidden": false,
        "row": 0,
        "width": 6
       },
       "report_default": {}
      }
     }
    }
   },
   "outputs": [
    {
     "data": {
      "application/javascript": [
       "\n",
       "requirejs.undef('filepicker');\n",
       "\n",
       "define('filepicker', [\"jupyter-js-widgets\"], function(widgets) {\n",
       "\n",
       "    var FilePickerView = widgets.DOMWidgetView.extend({\n",
       "        render: function(){\n",
       "            this.file = document.createElement('input');\n",
       "            this.file.setAttribute('class', 'fileinput');\n",
       "            this.file.setAttribute('id', this.cid);\n",
       "            this.file.multiple = this.model.get('multiple');\n",
       "            this.file.required = true;\n",
       "            this.file.setAttribute('type', 'file');\n",
       "            this.file.setAttribute('style', 'display:none');\n",
       "\n",
       "            this.label = document.createElement('label');\n",
       "            this.label.setAttribute('for', this.cid);\n",
       "            this.label.setAttribute('style', 'border: 1px solid; border-radius: 5px; display: inline-block; padding: 6px 12px');\n",
       "\n",
       "            this.icon = document.createElement('i');\n",
       "            this.icon.setAttribute(\"class\", \"fa fa-upload\");\n",
       "\n",
       "            if (this.file.multiple) {\n",
       "                this.labelstr = \"  Upload Files\";\n",
       "            } else {\n",
       "                this.labelstr = \"  Upload File\";\n",
       "            }\n",
       "            this.label.innerHTML = this.labelstr;\n",
       "            this.label.prepend(this.icon);\n",
       "            this.el.appendChild(this.label);\n",
       "            this.el.appendChild(this.file);\n",
       "            this.update();\n",
       "        },\n",
       "\n",
       "        events: {\n",
       "            // List of events and their handlers.\n",
       "            'change': 'handle_file_change',\n",
       "        },\n",
       "\n",
       "        handle_file_change: function(evt) {\n",
       "\n",
       "            var that = this;\n",
       "            var files = evt.target.files;\n",
       "            var filenames = [];\n",
       "            var skipped = [];\n",
       "            var file_readers = [];\n",
       "\n",
       "            for (var i = 0; i < files.length; i++) {\n",
       "                var file = files[i];\n",
       "                console.log(\"Filename: \" + file.name);\n",
       "                console.log(\"Type: \" + file.type);\n",
       "                console.log(\"Size: \" + file.size + \" bytes\");\n",
       "                if (file.size > this.model.get('maxsize')) {\n",
       "                    skipped.push(file.name);\n",
       "                    continue;\n",
       "                };\n",
       "                filenames.push(file.name);\n",
       "\n",
       "                // Read the file's textual content and set value_i to those contents.\n",
       "                file_readers.push(new FileReader());\n",
       "                file_readers[i].onload = (function(file, i) {\n",
       "                    return function(e) {\n",
       "                        that.model.set('value_' + i, e.target.result);\n",
       "                        that.touch();\n",
       "                        console.log(\"file_\" + i + \" loaded: \" + file.name);\n",
       "                    };\n",
       "                })(file, i);\n",
       "                file_readers[i].readAsDataURL(file);\n",
       "            };\n",
       "\n",
       "            // update the label\n",
       "            if (filenames.length == 0) {\n",
       "                this.label.innerHTML = this.labelstr;\n",
       "            } else if (filenames.length == 1) {\n",
       "                this.label.innerHTML = \"  \" + filenames[0];\n",
       "            } else {\n",
       "                this.label.innerHTML = \"  \" + filenames.length + \" files selected\";\n",
       "            };\n",
       "            this.label.prepend(this.icon);\n",
       "\n",
       "            // Set the filenames of the files.\n",
       "            this.model.set('filenames', filenames);\n",
       "            this.model.set('skipped', skipped);\n",
       "            this.touch();\n",
       "        },\n",
       "    });\n",
       "\n",
       "    // Register the FilePickerView with the widget manager.\n",
       "    return {\n",
       "        FilePickerView: FilePickerView\n",
       "    };\n",
       "});\n"
      ],
      "text/plain": [
       "<IPython.core.display.Javascript object>"
      ]
     },
     "metadata": {},
     "output_type": "display_data"
    },
    {
     "data": {
      "text/html": [
       "\n",
       "<script>\n",
       "requirejs.config({\n",
       "    paths: {\n",
       "        'ace': ['//cdnjs.cloudflare.com/ajax/libs/ace/1.2.6/ace'],\n",
       "    },\n",
       "});\n",
       "\n",
       "require(['ace'], function(ace) {\n",
       "    console.log(\"ACE loaded :)\");\n",
       "    return {};\n",
       "});\n",
       "</script>\n",
       "\n",
       "<script>\n",
       "requirejs.undef('editor');\n",
       "\n",
       "define('editor', [\"jupyter-js-widgets\"], function(widgets) {\n",
       "\n",
       "    var EditorView = widgets.DOMWidgetView.extend({\n",
       "\n",
       "        // Render the view.\n",
       "        render: function() {\n",
       "            this.ignorex = false;\n",
       "            this.ignorev = false;\n",
       "            //console.log('RENDER '+this.model.get('name'));\n",
       "            this.div = document.createElement('div');\n",
       "            this.div.setAttribute('id', this.model.get('name'));\n",
       "            this.el.appendChild(this.div);\n",
       "            this.listenTo(this.model, 'change:state', this._state_changed, this);\n",
       "            this.listenTo(this.model, 'change:theme', this._theme_changed, this);\n",
       "            this.listenTo(this.model, 'change:mode', this._mode_changed, this);\n",
       "            this.listenTo(this.model, 'change:value2', this._value2_changed, this);\n",
       "            this.listenTo(this.model, 'change:showmargin', this._showmargin_changed, this);\n",
       "            this.listenTo(this.model, 'change:fontsize', this._fontsize_changed, this);\n",
       "            this.update();\n",
       "        },\n",
       "        update: function() {\n",
       "            return EditorView.__super__.update.apply(this);\n",
       "        },\n",
       "        // Tell Backbone to listen to the change event of input controls\n",
       "        events: {\n",
       "            \"change\": \"handle_color_change\"\n",
       "        },\n",
       "\n",
       "        _state_changed: function() {\n",
       "            var state = this.model.get('state')\n",
       "            //console.log('state: ' + state );\n",
       "            if (state == 'start') {\n",
       "                var that = this;\n",
       "                this._ed = ace.edit(this.model.get('name'));\n",
       "                this._ed.getSession().on('change', function(e) {\n",
       "                    if (that.ignorev == true) { return }\n",
       "                    that.ignorex = true;\n",
       "                    //console.log('CHANGE1');\n",
       "                    that.model.set('value2', that._ed.getValue());\n",
       "                    //console.log('CHANGE2');\n",
       "                    that.touch();\n",
       "                    //console.log('CHANGE3');\n",
       "                    that.ignorex = false;\n",
       "                });\n",
       "            };\n",
       "        },\n",
       "        _theme_changed: function() {\n",
       "            //console.log(\"theme \" + this.model.get('theme'));\n",
       "            this._ed.setTheme(\"ace/theme/\"+this.model.get('theme'));\n",
       "        },\n",
       "        _mode_changed: function() {\n",
       "            //console.log(\"mode \" + this.model.get('mode'));\n",
       "            this._ed.getSession().setMode(\"ace/mode/\"+this.model.get('mode'));\n",
       "        },\n",
       "        _value2_changed: function() {\n",
       "            //console.log('value2 ' + this.ignorex);\n",
       "            if (this.ignorex == true) { return };\n",
       "            var val = this.model.get('value2');\n",
       "            //console.log('VALUE2 ' + val);\n",
       "            this.ignorev = true;\n",
       "            this._ed.setValue(val);\n",
       "            this.ignorev = false;\n",
       "            //console.log('VALUE2 DONE');\n",
       "        },\n",
       "        _showmargin_changed: function() {\n",
       "            this._ed.setShowPrintMargin(this.model.get('showmargin'));\n",
       "        },\n",
       "        _fontsize_changed: function() {\n",
       "            document.getElementById(this.model.get('name')).style.fontSize=this.model.get('fontsize');\n",
       "        },\n",
       "\n",
       "        // Callback for when the color is changed.\n",
       "        handle_color_change: function(event) {\n",
       "            console.log('SOMETHING CHNAGED');\n",
       "            console.log(event);\n",
       "        },\n",
       "    });\n",
       "\n",
       "    return {\n",
       "        EditorView: EditorView\n",
       "    };\n",
       "});\n",
       "</script>\n"
      ],
      "text/plain": [
       "<IPython.core.display.HTML object>"
      ]
     },
     "metadata": {},
     "output_type": "display_data"
    },
    {
     "data": {
      "application/vnd.jupyter.widget-view+json": {
       "model_id": "35f2c8efc1fd4e2aa911d4fc3ed95174",
       "version_major": 2,
       "version_minor": 0
      },
      "text/html": [
       "<p>Failed to display Jupyter Widget of type <code>Box</code>.</p>\n",
       "<p>\n",
       "  If you're reading this message in the Jupyter Notebook or JupyterLab Notebook, it may mean\n",
       "  that the widgets JavaScript is still loading. If this message persists, it\n",
       "  likely means that the widgets JavaScript library is either not installed or\n",
       "  not enabled. See the <a href=\"https://ipywidgets.readthedocs.io/en/stable/user_install.html\">Jupyter\n",
       "  Widgets Documentation</a> for setup instructions.\n",
       "</p>\n",
       "<p>\n",
       "  If you're reading this message in another frontend (for example, a static\n",
       "  rendering on GitHub or <a href=\"https://nbviewer.jupyter.org/\">NBViewer</a>),\n",
       "  it may mean that your frontend doesn't currently support widgets.\n",
       "</p>\n"
      ],
      "text/plain": [
       "Box(children=(HTML(value='<p data-toggle=\"popover\" title=\"Raman data files should be uploaded as 2 column CSV files\">Please upload Raman spectra data file (CSV)</p>', layout=Layout(flex='2 1 auto')), FileWidget(maxsize=10000000)), layout=Layout(border='solid 1px lightgray', display='flex', flex_flow='row', justify_content='space-between', width='auto'))"
      ]
     },
     "metadata": {},
     "output_type": "display_data"
    }
   ],
   "source": [
    "from hublib.ui import FileUpload\n",
    "\n",
    "def mycb(name,val):\n",
    "    #print(\"CB %s (length = %s bytes)\" % (name, len(val)))\n",
    "    global fnm\n",
    "    fnm=name\n",
    "\n",
    "f = FileUpload(\"Please upload Raman spectra data file (CSV)\", \n",
    "               \"Raman data files should be uploaded as 2 column CSV files\",cb=mycb,maxsize=10000000)\n",
    "f"
   ]
  },
  {
   "cell_type": "code",
   "execution_count": 3,
   "metadata": {
    "extensions": {
     "jupyter_dashboards": {
      "version": 1,
      "views": {
       "grid_default": {
        "hidden": true
       },
       "report_default": {}
      }
     }
    }
   },
   "outputs": [],
   "source": [
    "def errprint(code):\n",
    "    errfile=pd.read_csv('errfile.txt',sep='\\t',header=None)\n",
    "    with errout:\n",
    "        clear_output()\n",
    "        print(errfile[0][code])\n",
    "        errout"
   ]
  },
  {
   "cell_type": "code",
   "execution_count": 4,
   "metadata": {
    "extensions": {
     "jupyter_dashboards": {
      "version": 1,
      "views": {
       "grid_default": {
        "hidden": true
       },
       "report_default": {}
      }
     }
    }
   },
   "outputs": [],
   "source": [
    "def case_lookup(index):\n",
    "    casefile=pd.read_csv('Case_List.txt',sep='\\t',header=None)\n",
    "    c=casefile[0][index]\n",
    "    return c"
   ]
  },
  {
   "cell_type": "code",
   "execution_count": 17,
   "metadata": {
    "extensions": {
     "jupyter_dashboards": {
      "version": 1,
      "views": {
       "grid_default": {
        "col": 6,
        "height": 2,
        "hidden": false,
        "row": 0,
        "width": 2
       },
       "report_default": {}
      }
     }
    },
    "scrolled": true
   },
   "outputs": [
    {
     "data": {
      "application/vnd.jupyter.widget-view+json": {
       "model_id": "670a29ce915b4df9a443c1ae9a0738a4",
       "version_major": 2,
       "version_minor": 0
      },
      "text/html": [
       "<p>Failed to display Jupyter Widget of type <code>Button</code>.</p>\n",
       "<p>\n",
       "  If you're reading this message in the Jupyter Notebook or JupyterLab Notebook, it may mean\n",
       "  that the widgets JavaScript is still loading. If this message persists, it\n",
       "  likely means that the widgets JavaScript library is either not installed or\n",
       "  not enabled. See the <a href=\"https://ipywidgets.readthedocs.io/en/stable/user_install.html\">Jupyter\n",
       "  Widgets Documentation</a> for setup instructions.\n",
       "</p>\n",
       "<p>\n",
       "  If you're reading this message in another frontend (for example, a static\n",
       "  rendering on GitHub or <a href=\"https://nbviewer.jupyter.org/\">NBViewer</a>),\n",
       "  it may mean that your frontend doesn't currently support widgets.\n",
       "</p>\n"
      ],
      "text/plain": [
       "Button(description='Do Fitting', style=ButtonStyle())"
      ]
     },
     "metadata": {},
     "output_type": "display_data"
    }
   ],
   "source": [
    "fit_but = widgets.Button(description='Do Fitting')\n",
    "    \n",
    "def fit_but_cb(change):\n",
    "    \n",
    "    with errout:\n",
    "        clear_output()\n",
    "    with diffsplot:\n",
    "        clear_output()\n",
    "    with datplot:\n",
    "        clear_output()\n",
    "    with plist:\n",
    "        clear_output()\n",
    "        \n",
    "    f.save('tmpfile')\n",
    "    if fnm[-3:]=='txt':\n",
    "        sp='\\t'\n",
    "    elif fnm[-3:]=='csv':\n",
    "        sp=','\n",
    "    else:\n",
    "        errprint(0)\n",
    "        return\n",
    "    \n",
    "    with plist:\n",
    "        clear_output()\n",
    "        print('Reading daata file...')\n",
    "    data = pd.read_csv('tmpfile',sep=sp,header=None)\n",
    "    with plist:\n",
    "        clear_output()\n",
    "        print('Data file read')\n",
    "    \n",
    "    n=int(data.size/len(data)) #n determines the size of the data file\n",
    "\n",
    "    ##Single Spectra Data File, n=2    \n",
    "    if n==2:\n",
    "        with plist:\n",
    "            clear_output()\n",
    "            print('Fitting single spectra data.')\n",
    "        I,W=Spectra(data)\n",
    "    \n",
    "        PG,PGp,If,PD,IDfit,Q,diffs,mdi,md,mf=Fit(I,W)\n",
    "\n",
    "        dtplot(I,W,If,IDfit,mf,Q,PG,PGp,PD)\n",
    "\n",
    "        with diffsplot:\n",
    "            clear_output()\n",
    "            plt.plot(diffs,'kv')\n",
    "            plt.plot(mdi,md,'gv')\n",
    "            plt.annotate((round(Decimal(md),2)),xy=(mdi,1.2*md))\n",
    "            plt.xticks(range(6),('1','2','3','4','5','Graphite'))\n",
    "            plt.xlabel('# Layers')\n",
    "            plt.ylabel('$\\Delta$ [%]')\n",
    "            plt.show()\n",
    "\n",
    "        with plist:\n",
    "            clear_output()\n",
    "            G=GL('GREEK CAPITAL LETTER GAMMA')\n",
    "            o=GL('GREEK SMALL LETTER OMEGA')\n",
    "            print('G Fitting Parameters:\\n\\tA=%1.2f\\n\\t%s=%1.2f\\n\\t%s=%1.2f\\n'\n",
    "                  'G\\' Fitting Parameters:\\n\\tA=%1.2f\\n\\t%s=%1.2f\\n\\t%s=%1.2f\\n'\n",
    "                  'D Fitting Parameters:\\n\\tA=%1.2f\\n\\t%s=%1.2f\\n\\t%s=%1.2f\\n'\n",
    "                  'Quality=%1.2f (Ratio of D to G)\\n'\n",
    "                  'Best Case Match: %s'\n",
    "                  %(PG[0],G,PG[1],o,PG[2],PGp[0],G,PGp[1],o,PGp[2],PD[0],G,PD[1],o,PD[2],Q,case_lookup(mdi)))\n",
    "    #Map files will be much larger than 2 points and need separate handling\n",
    "    elif n > 2:\n",
    "        Map(data)\n",
    "    else:\n",
    "        errprint(0)\n",
    "        return\n",
    "    \n",
    "fit_but.on_click(fit_but_cb)\n",
    "fit_but"
   ]
  },
  {
   "cell_type": "code",
   "execution_count": 16,
   "metadata": {
    "extensions": {
     "jupyter_dashboards": {
      "version": 1,
      "views": {
       "grid_default": {
        "hidden": true
       },
       "report_default": {}
      }
     }
    }
   },
   "outputs": [],
   "source": [
    "def Map(data):\n",
    "    global x,y\n",
    "    t1=time.clock()\n",
    "    T1=t1\n",
    "    W=data[:][0:1]\n",
    "    W=np.array(W)\n",
    "    W=W[~np.isnan(W)]\n",
    "    \n",
    "    x=data[0]\n",
    "    x=np.array(x)\n",
    "    x=x[~np.isnan(x)]\n",
    "    xu=np.unique(x)\n",
    "    \n",
    "    y=data[1]\n",
    "    y=np.array(y)\n",
    "    y=y[~np.isnan(y)]\n",
    "    yu=np.unique(y)\n",
    "    \n",
    "    n=yu.size*xu.size\n",
    "    \n",
    "    xi = np.linspace(min(x), max(x))\n",
    "    yi = np.linspace(min(y), max(y))\n",
    "    X, Y = np.meshgrid(xi, yi)\n",
    "    \n",
    "    global IG,IGp,ID,wG,wGp,wD,GG,GGp,GD\n",
    "    \n",
    "    PG=np.zeros((n,3));PGp=np.zeros((n,3));PD=np.zeros((n,3));\n",
    "    diffs=np.zeros((n,5));\n",
    "    Q=np.zeros(n);mdi=np.zeros(n);md=np.zeros(n);\n",
    "    I=np.zeros((n,1024));If=np.zeros((n,1024));mf=np.zeros((n,1024));IDfit=np.zeros((n,1024))\n",
    "    \n",
    "    wG=np.zeros(n)\n",
    "    wGp=np.zeros(n)\n",
    "    wD=np.zeros(n)\n",
    "    IG=np.zeros(n)\n",
    "    IGp=np.zeros(n)\n",
    "    ID=np.zeros(n)\n",
    "    GG=np.zeros(n)\n",
    "    GGp=np.zeros(n)\n",
    "    GD=np.zeros(n)\n",
    "    \n",
    "    for k in range(n):\n",
    "        t2=time.clock()\n",
    "        dt=(t2-t1)\n",
    "        t1=t2\n",
    "        pdone=100*(k+1)/n\n",
    "        t_e=(n-k)*dt/60\n",
    "        if t_e<60:\n",
    "            ts='sec'\n",
    "            t_est=t_e*60\n",
    "        else:\n",
    "            ts='min'\n",
    "            t_est=t_e\n",
    "        #print(t_est)\n",
    "        with plist:\n",
    "            clear_output()\n",
    "            print('Fitting map data. This may take some time...\\n%1.2f%% Done\\nEstimated time left [%s]: %1.2f'%(pdone,ts,t_est))\n",
    "        \n",
    "        I_raw=np.array(data)[k+1][2:1026]\n",
    "        i=((I_raw-np.min(I_raw))/np.max(I_raw-np.min(I_raw)))\n",
    "        pG,pGp,i_f,pD,iDfit,q,Diffs,Mdi,Md,Mf=Fit(i,W)\n",
    "        \n",
    "        I[k]=np.transpose(i)\n",
    "        If[k]=np.transpose(i_f)\n",
    "        mf=np.transpose(Mf)\n",
    "        #diffs[k]=np.transpose(Diffs)\n",
    "        Q[k]=q\n",
    "        mdi[k]=Mdi\n",
    "        md[k]=Md\n",
    "        \n",
    "        for j in range(3):\n",
    "            PG[k][j]=pG[j]\n",
    "            PGp[k][j]=pGp[j]\n",
    "            PD[k][j]=pD[j]\n",
    "        \n",
    "        IG[k]=pG[0]\n",
    "        IGp[k]=pGp[0]\n",
    "        ID[k]=pD[0]\n",
    "        \n",
    "        GG[k]=pG[1]\n",
    "        GGp[k]=pGp[1]\n",
    "        GD[k]=pD[1]\n",
    "        \n",
    "        wG[k]=pG[2]\n",
    "        wGp[k]=pGp[2]\n",
    "        wD[k]=pD[2]\n",
    "        #dtplot(i,W,i_f,iDfit,Mf,q,pG,pGp,pD)\n",
    "\n",
    "    Mplot(x,y,wG)\n",
    "    with diffsplot:\n",
    "        clear_output()\n",
    "        plt.hist(wG,bins='auto')\n",
    "        plt.show()\n",
    "    T2=time.clock()\n",
    "    with plist:\n",
    "        clear_output()\n",
    "        print('Fitting Finished\\nActual time [min]: %1.2f'%((T2-T1)/60))"
   ]
  },
  {
   "cell_type": "code",
   "execution_count": 20,
   "metadata": {
    "extensions": {
     "jupyter_dashboards": {
      "version": 1,
      "views": {
       "grid_default": {
        "hidden": true
       },
       "report_default": {}
      }
     }
    }
   },
   "outputs": [],
   "source": [
    "def Mplot(x,y,z):\n",
    "    xi = np.linspace(min(x), max(x))\n",
    "    yi = np.linspace(min(y), max(y))\n",
    "    X, Y = np.meshgrid(xi, yi)\n",
    "    \n",
    "    with datplot:\n",
    "        clear_output()\n",
    "        Z=matplotlib.mlab.griddata(x, y, z, xi, yi, interp='linear') \n",
    "        plt.contourf(X,Y,Z)\n",
    "        plt.set_cmap('inferno')\n",
    "        plt.xlabel('x [mm]')\n",
    "        plt.ylabel('y [mm]')\n",
    "        plt.show()"
   ]
  },
  {
   "cell_type": "code",
   "execution_count": 8,
   "metadata": {
    "extensions": {
     "jupyter_dashboards": {
      "version": 1,
      "views": {
       "grid_default": {
        "hidden": true
       },
       "report_default": {
        "hidden": true
       }
      }
     }
    }
   },
   "outputs": [],
   "source": [
    "def Spectra(data):\n",
    "    srow=0;\n",
    "    if type(data[0][0])==str:\n",
    "        srow=1\n",
    "    \n",
    "    W=data[0][srow:len(data)]\n",
    "    W=np.array(W);W=W.astype(float)\n",
    "    I_raw=data[1][srow:len(data)]\n",
    "    I_raw=np.array(I_raw);I_raw=I_raw.astype(float)\n",
    "    I=((I_raw-np.min(I_raw))/np.max(I_raw-np.min(I_raw)));\n",
    "    return I,W"
   ]
  },
  {
   "cell_type": "code",
   "execution_count": 9,
   "metadata": {
    "extensions": {
     "jupyter_dashboards": {
      "version": 1,
      "views": {
       "grid_default": {
        "hidden": true
       },
       "report_default": {}
      }
     }
    }
   },
   "outputs": [],
   "source": [
    "def Fit(I,W):\n",
    "    pG=[np.max(I), 5, 1581.6] #a w b\n",
    "    pGp=[np.max(I), 18, 2675]\n",
    "    PG=%octave -i pG,W,I lsqcurvefit(@Single_Lorentz,pG,W,I,[0,0,1400],[max(I),50,2000]);\n",
    "    PGp=%octave -i pGp,W,I lsqcurvefit(@Single_Lorentz,pGp,W,I,[0,0,2000],[max(I),100,3000]);\n",
    "    PG[1]=np.absolute(PG[1]);PGp[1]=np.absolute(PGp[1]); #FWHM sometimes returns - bc always squared\n",
    "    IGfit=%octave -i PG,W Single_Lorentz(PG,W);\n",
    "    IGpfit=%octave -i PGp,W Single_Lorentz(PGp,W);\n",
    "    IGfit=IGfit[0];IGpfit=IGpfit[0];\n",
    "    If=IGfit+IGpfit;\n",
    "    \n",
    "    \n",
    "    pD=[np.max(I),5,1300]\n",
    "    PD=%octave -i pD,W,I lsqcurvefit(@Single_Lorentz,pD,W,I,[0,0,1200],[max(I),50,1400]);\n",
    "    PD[1]=np.absolute(PD[1]);\n",
    "    IDfit=%octave -i PD,W Single_Lorentz(PD,W);\n",
    "    IDfit=IDfit[0]\n",
    "    Q=1-(PD[0]/PG[0])\n",
    "    Q=Decimal(Q[0])\n",
    "    \n",
    "    Cdat=np.load('Cfits.npy')\n",
    "\n",
    "    diffs_lin=[];diffs_Gp=[];\n",
    "    diffs=[];\n",
    "    for d in range(6):\n",
    "        \n",
    "        LG=Cdat[d][0];\n",
    "        LGp=Cdat[d][1];\n",
    "        LGfit=%octave -i LG,W Single_Lorentz(LG,W); \n",
    "        LGpfit=%octave -i LGp,W Single_Lorentz(LGp,W);\n",
    "        Lf=(LGfit+LGpfit)\n",
    " \n",
    "        dfGp=np.average(np.absolute(100*(PGp-LGp)/LGp))\n",
    "        dfG=np.average(np.absolute(100*(PG-LG)/LG))\n",
    "        df=np.average([dfGp,dfG])\n",
    "        diffs.append(df)\n",
    "  \n",
    "    md=np.min(diffs)\n",
    "    mdi=np.argmin(diffs)\n",
    "\n",
    "    mG=Cdat[mdi][0];mGp=Cdat[mdi][1];\n",
    "    mGfit=%octave -i mG,W Single_Lorentz(mG,W);\n",
    "    mGpfit=%octave -i mGp,W Single_Lorentz(mGp,W);\n",
    "    mf=mGfit+mGpfit;mf=mf[0]\n",
    "    return PG,PGp,If,PD,IDfit,Q,diffs,mdi,md,mf"
   ]
  },
  {
   "cell_type": "code",
   "execution_count": 10,
   "metadata": {
    "extensions": {
     "jupyter_dashboards": {
      "version": 1,
      "views": {
       "grid_default": {
        "hidden": true
       },
       "report_default": {}
      }
     }
    }
   },
   "outputs": [],
   "source": [
    "def dtplot(I,W,If,IDfit,mf,Q,PG,PGp,PD):\n",
    "        with datplot:\n",
    "            clear_output()\n",
    "            plt.plot(W,I,'b',W,If+IDfit,'r',W,mf,'g')\n",
    "            plt.xlabel('$\\omega$ $[cm^{-1}]$')\n",
    "            plt.ylabel('$I_{norm}$ [arb]')\n",
    "            plt.legend(labels=['Raw','Fit','Test'])\n",
    "            plt.annotate('Q=%1.2f' %round(Q,2) ,xy=(np.min(W),0.98))\n",
    "            plt.annotate('D',xy=(0.85*PD[2],1.1*PD[0]))\n",
    "            plt.annotate('G',xy=(0.9*PG[2],0.95*PG[0]))\n",
    "            plt.annotate('G\\'',xy=(0.94*PGp[2],0.95*PGp[0]))\n",
    "            plt.show()"
   ]
  },
  {
   "cell_type": "code",
   "execution_count": 11,
   "metadata": {
    "extensions": {
     "jupyter_dashboards": {
      "version": 1,
      "views": {
       "grid_default": {
        "col": 0,
        "height": 9,
        "hidden": false,
        "row": 4,
        "width": 4
       },
       "report_default": {}
      }
     }
    }
   },
   "outputs": [
    {
     "data": {
      "application/vnd.jupyter.widget-view+json": {
       "model_id": "15945b0d3f474677bf9d685c50d09c64",
       "version_major": 2,
       "version_minor": 0
      },
      "text/html": [
       "<p>Failed to display Jupyter Widget of type <code>Output</code>.</p>\n",
       "<p>\n",
       "  If you're reading this message in the Jupyter Notebook or JupyterLab Notebook, it may mean\n",
       "  that the widgets JavaScript is still loading. If this message persists, it\n",
       "  likely means that the widgets JavaScript library is either not installed or\n",
       "  not enabled. See the <a href=\"https://ipywidgets.readthedocs.io/en/stable/user_install.html\">Jupyter\n",
       "  Widgets Documentation</a> for setup instructions.\n",
       "</p>\n",
       "<p>\n",
       "  If you're reading this message in another frontend (for example, a static\n",
       "  rendering on GitHub or <a href=\"https://nbviewer.jupyter.org/\">NBViewer</a>),\n",
       "  it may mean that your frontend doesn't currently support widgets.\n",
       "</p>\n"
      ],
      "text/plain": [
       "Output()"
      ]
     },
     "metadata": {},
     "output_type": "display_data"
    }
   ],
   "source": [
    "datplot=widgets.Output();datplot"
   ]
  },
  {
   "cell_type": "code",
   "execution_count": 12,
   "metadata": {
    "extensions": {
     "jupyter_dashboards": {
      "version": 1,
      "views": {
       "grid_default": {
        "col": 4,
        "height": 9,
        "hidden": false,
        "row": 4,
        "width": 4
       },
       "report_default": {}
      }
     }
    }
   },
   "outputs": [
    {
     "data": {
      "application/vnd.jupyter.widget-view+json": {
       "model_id": "10ba11c47ee84f498a5b6e76a90fc133",
       "version_major": 2,
       "version_minor": 0
      },
      "text/html": [
       "<p>Failed to display Jupyter Widget of type <code>Output</code>.</p>\n",
       "<p>\n",
       "  If you're reading this message in the Jupyter Notebook or JupyterLab Notebook, it may mean\n",
       "  that the widgets JavaScript is still loading. If this message persists, it\n",
       "  likely means that the widgets JavaScript library is either not installed or\n",
       "  not enabled. See the <a href=\"https://ipywidgets.readthedocs.io/en/stable/user_install.html\">Jupyter\n",
       "  Widgets Documentation</a> for setup instructions.\n",
       "</p>\n",
       "<p>\n",
       "  If you're reading this message in another frontend (for example, a static\n",
       "  rendering on GitHub or <a href=\"https://nbviewer.jupyter.org/\">NBViewer</a>),\n",
       "  it may mean that your frontend doesn't currently support widgets.\n",
       "</p>\n"
      ],
      "text/plain": [
       "Output()"
      ]
     },
     "metadata": {},
     "output_type": "display_data"
    }
   ],
   "source": [
    "diffsplot=widgets.Output();diffsplot"
   ]
  },
  {
   "cell_type": "code",
   "execution_count": 13,
   "metadata": {
    "extensions": {
     "jupyter_dashboards": {
      "version": 1,
      "views": {
       "grid_default": {
        "col": 0,
        "height": 2,
        "hidden": false,
        "row": 13,
        "width": 8
       },
       "report_default": {}
      }
     }
    }
   },
   "outputs": [
    {
     "data": {
      "application/vnd.jupyter.widget-view+json": {
       "model_id": "42752536245d41fe92955c2455beade5",
       "version_major": 2,
       "version_minor": 0
      },
      "text/html": [
       "<p>Failed to display Jupyter Widget of type <code>Output</code>.</p>\n",
       "<p>\n",
       "  If you're reading this message in the Jupyter Notebook or JupyterLab Notebook, it may mean\n",
       "  that the widgets JavaScript is still loading. If this message persists, it\n",
       "  likely means that the widgets JavaScript library is either not installed or\n",
       "  not enabled. See the <a href=\"https://ipywidgets.readthedocs.io/en/stable/user_install.html\">Jupyter\n",
       "  Widgets Documentation</a> for setup instructions.\n",
       "</p>\n",
       "<p>\n",
       "  If you're reading this message in another frontend (for example, a static\n",
       "  rendering on GitHub or <a href=\"https://nbviewer.jupyter.org/\">NBViewer</a>),\n",
       "  it may mean that your frontend doesn't currently support widgets.\n",
       "</p>\n"
      ],
      "text/plain": [
       "Output()"
      ]
     },
     "metadata": {},
     "output_type": "display_data"
    }
   ],
   "source": [
    "errout=widgets.Output();errout"
   ]
  },
  {
   "cell_type": "code",
   "execution_count": 14,
   "metadata": {
    "extensions": {
     "jupyter_dashboards": {
      "version": 1,
      "views": {
       "grid_default": {
        "col": 8,
        "height": 8,
        "hidden": false,
        "row": 0,
        "width": 4
       },
       "report_default": {}
      }
     }
    }
   },
   "outputs": [
    {
     "data": {
      "application/vnd.jupyter.widget-view+json": {
       "model_id": "6df44e19f50e499094253324073d05ab",
       "version_major": 2,
       "version_minor": 0
      },
      "text/html": [
       "<p>Failed to display Jupyter Widget of type <code>Output</code>.</p>\n",
       "<p>\n",
       "  If you're reading this message in the Jupyter Notebook or JupyterLab Notebook, it may mean\n",
       "  that the widgets JavaScript is still loading. If this message persists, it\n",
       "  likely means that the widgets JavaScript library is either not installed or\n",
       "  not enabled. See the <a href=\"https://ipywidgets.readthedocs.io/en/stable/user_install.html\">Jupyter\n",
       "  Widgets Documentation</a> for setup instructions.\n",
       "</p>\n",
       "<p>\n",
       "  If you're reading this message in another frontend (for example, a static\n",
       "  rendering on GitHub or <a href=\"https://nbviewer.jupyter.org/\">NBViewer</a>),\n",
       "  it may mean that your frontend doesn't currently support widgets.\n",
       "</p>\n"
      ],
      "text/plain": [
       "Output()"
      ]
     },
     "metadata": {},
     "output_type": "display_data"
    }
   ],
   "source": [
    "plist=widgets.Output();plist"
   ]
  },
  {
   "cell_type": "code",
   "execution_count": 15,
   "metadata": {
    "extensions": {
     "jupyter_dashboards": {
      "version": 1,
      "views": {
       "grid_default": {
        "col": 0,
        "height": 2,
        "hidden": false,
        "row": 2,
        "width": 6
       },
       "report_default": {}
      }
     }
    }
   },
   "outputs": [
    {
     "data": {
      "application/vnd.jupyter.widget-view+json": {
       "model_id": "dc606f18d0ea45e88abdfe6daa126e4e",
       "version_major": 2,
       "version_minor": 0
      },
      "text/html": [
       "<p>Failed to display Jupyter Widget of type <code>Dropdown</code>.</p>\n",
       "<p>\n",
       "  If you're reading this message in the Jupyter Notebook or JupyterLab Notebook, it may mean\n",
       "  that the widgets JavaScript is still loading. If this message persists, it\n",
       "  likely means that the widgets JavaScript library is either not installed or\n",
       "  not enabled. See the <a href=\"https://ipywidgets.readthedocs.io/en/stable/user_install.html\">Jupyter\n",
       "  Widgets Documentation</a> for setup instructions.\n",
       "</p>\n",
       "<p>\n",
       "  If you're reading this message in another frontend (for example, a static\n",
       "  rendering on GitHub or <a href=\"https://nbviewer.jupyter.org/\">NBViewer</a>),\n",
       "  it may mean that your frontend doesn't currently support widgets.\n",
       "</p>\n"
      ],
      "text/plain": [
       "Dropdown(description='Parameter', options={'Select': '', 'I_G': 1, 'ω_G': 2, 'Γ_G': 3, \"I_G'\": 4, \"ω_G'\": 5, \"Γ_G'\": 6, 'I_D': 7, 'ω_D': 8, 'Γ_D': 9}, value='')"
      ]
     },
     "metadata": {},
     "output_type": "display_data"
    }
   ],
   "source": [
    "o=GL('GREEK SMALL LETTER OMEGA')\n",
    "G=GL('GREEK CAPITAL LETTER GAMMA')\n",
    "\n",
    "def param_change(change):\n",
    "    if param.value==1:\n",
    "        z=IG\n",
    "    elif param.value==2:\n",
    "        z=wG\n",
    "    elif param.value==3:\n",
    "        z=GG\n",
    "    elif param.value==4:\n",
    "        z=IGp\n",
    "    elif param.value==5:\n",
    "        z=wGp\n",
    "    elif param.value==6:\n",
    "        z=GGp\n",
    "    elif param.value==7:\n",
    "        z=ID\n",
    "    elif param.value==8:\n",
    "        z=wD\n",
    "    elif param.value==9:\n",
    "        z=GD\n",
    "    else:\n",
    "        z=wG\n",
    "    \n",
    "    Mplot(x,y,z)\n",
    "\n",
    "param=widgets.Dropdown(description='Parameter')\n",
    "param.options=options={'Select': '', 'I_G': 1, (o+'_G'): 2, (G+'_G'): 3, 'I_G\\'': 4, (o+'_G\\''): 5, (G+'_G\\''): 6, 'I_D': 7, (o+'_D'): 8, (G+'_D'): 9}\n",
    "param.observe(param_change)\n",
    "param"
   ]
  }
 ],
 "metadata": {
  "extensions": {
   "jupyter_dashboards": {
    "activeView": "grid_default",
    "version": 1,
    "views": {
     "grid_default": {
      "cellMargin": 10,
      "defaultCellHeight": 20,
      "maxColumns": 12,
      "name": "grid",
      "type": "grid"
     },
     "report_default": {
      "name": "report",
      "type": "report"
     }
    }
   }
  },
  "kernelspec": {
   "display_name": "Python3",
   "language": "python",
   "name": "python3"
  },
  "language_info": {
   "codemirror_mode": {
    "name": "ipython",
    "version": 3
   },
   "file_extension": ".py",
   "mimetype": "text/x-python",
   "name": "python",
   "nbconvert_exporter": "python",
   "pygments_lexer": "ipython3",
   "version": "3.6.2"
  }
 },
 "nbformat": 4,
 "nbformat_minor": 2
}
