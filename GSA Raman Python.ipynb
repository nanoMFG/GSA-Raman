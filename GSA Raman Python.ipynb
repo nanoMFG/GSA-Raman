{
 "cells": [
  {
   "cell_type": "code",
   "execution_count": 22,
   "metadata": {
    "extensions": {
     "jupyter_dashboards": {
      "version": 1,
      "views": {
       "grid_default": {
        "col": 0,
        "height": 6,
        "hidden": true,
        "row": 0,
        "width": 4
       },
       "report_default": {}
      }
     }
    }
   },
   "outputs": [
    {
     "name": "stdout",
     "output_type": "stream",
     "text": [
      "The oct2py.ipython extension is already loaded. To reload it, use:\n",
      "  %reload_ext oct2py.ipython\n"
     ]
    }
   ],
   "source": [
    "import hublib\n",
    "import hublib.use\n",
    "%use octave-4.2.0\n",
    "import oct2py\n",
    "%load_ext oct2py.ipython\n",
    "import pandas as pd\n",
    "import ipywidgets as widgets\n",
    "from IPython.display import clear_output\n",
    "import matplotlib\n",
    "import matplotlib.pyplot as plt\n",
    "import scipy\n",
    "import numpy as np\n",
    "from decimal import Decimal\n",
    "%octave pkg load optim\n",
    "import unicodedata\n",
    "from unicodedata import lookup as GL\n",
    "import sympy as sy\n",
    "import plotly.graph_objs as go"
   ]
  },
  {
   "cell_type": "code",
   "execution_count": 23,
   "metadata": {
    "extensions": {
     "jupyter_dashboards": {
      "version": 1,
      "views": {
       "grid_default": {
        "col": 0,
        "height": 2,
        "hidden": false,
        "row": 0,
        "width": 6
       },
       "report_default": {}
      }
     }
    }
   },
   "outputs": [
    {
     "data": {
      "application/vnd.jupyter.widget-view+json": {
       "model_id": "4c029e32bcd24acb8d2bb0d2310e1903",
       "version_major": 2,
       "version_minor": 0
      },
      "text/html": [
       "<p>Failed to display Jupyter Widget of type <code>Box</code>.</p>\n",
       "<p>\n",
       "  If you're reading this message in the Jupyter Notebook or JupyterLab Notebook, it may mean\n",
       "  that the widgets JavaScript is still loading. If this message persists, it\n",
       "  likely means that the widgets JavaScript library is either not installed or\n",
       "  not enabled. See the <a href=\"https://ipywidgets.readthedocs.io/en/stable/user_install.html\">Jupyter\n",
       "  Widgets Documentation</a> for setup instructions.\n",
       "</p>\n",
       "<p>\n",
       "  If you're reading this message in another frontend (for example, a static\n",
       "  rendering on GitHub or <a href=\"https://nbviewer.jupyter.org/\">NBViewer</a>),\n",
       "  it may mean that your frontend doesn't currently support widgets.\n",
       "</p>\n"
      ],
      "text/plain": [
       "Box(children=(HTML(value='<p data-toggle=\"popover\" title=\"Raman data files should be uploaded as 2 column CSV files\">Please upload Raman spectra data file (CSV)</p>', layout=Layout(flex='2 1 auto')), FileWidget(maxsize=10000000)), layout=Layout(border='solid 1px lightgray', display='flex', flex_flow='row', justify_content='space-between', width='auto'))"
      ]
     },
     "metadata": {},
     "output_type": "display_data"
    }
   ],
   "source": [
    "from hublib.ui import FileUpload\n",
    "\n",
    "def mycb(name,val):\n",
    "    #print(\"CB %s (length = %s bytes)\" % (name, len(val)))\n",
    "    global fnm\n",
    "    fnm=name\n",
    "\n",
    "f = FileUpload(\"Please upload Raman spectra data file (CSV)\", \n",
    "               \"Raman data files should be uploaded as 2 column CSV files\",cb=mycb,maxsize=10000000)\n",
    "f"
   ]
  },
  {
   "cell_type": "code",
   "execution_count": 24,
   "metadata": {
    "extensions": {
     "jupyter_dashboards": {
      "version": 1,
      "views": {
       "grid_default": {
        "hidden": true
       },
       "report_default": {}
      }
     }
    }
   },
   "outputs": [],
   "source": [
    "def errprint(code):\n",
    "    errfile=pd.read_csv('errfile.txt',sep='\\t',header=None)\n",
    "    with errout:\n",
    "        clear_output()\n",
    "        print(errfile[0][code])\n",
    "        errout"
   ]
  },
  {
   "cell_type": "code",
   "execution_count": 25,
   "metadata": {
    "extensions": {
     "jupyter_dashboards": {
      "version": 1,
      "views": {
       "grid_default": {
        "hidden": true
       },
       "report_default": {}
      }
     }
    }
   },
   "outputs": [],
   "source": [
    "def case_lookup(index):\n",
    "    casefile=pd.read_csv('Case_List.txt',sep='\\t',header=None)\n",
    "    c=casefile[0][index]\n",
    "    return c"
   ]
  },
  {
   "cell_type": "code",
   "execution_count": 26,
   "metadata": {
    "extensions": {
     "jupyter_dashboards": {
      "version": 1,
      "views": {
       "grid_default": {
        "col": 6,
        "height": 2,
        "hidden": false,
        "row": 0,
        "width": 2
       },
       "report_default": {}
      }
     }
    },
    "scrolled": true
   },
   "outputs": [
    {
     "data": {
      "application/vnd.jupyter.widget-view+json": {
       "model_id": "b392dc03a51c4b31a1363ae954ffe6db",
       "version_major": 2,
       "version_minor": 0
      },
      "text/html": [
       "<p>Failed to display Jupyter Widget of type <code>Button</code>.</p>\n",
       "<p>\n",
       "  If you're reading this message in the Jupyter Notebook or JupyterLab Notebook, it may mean\n",
       "  that the widgets JavaScript is still loading. If this message persists, it\n",
       "  likely means that the widgets JavaScript library is either not installed or\n",
       "  not enabled. See the <a href=\"https://ipywidgets.readthedocs.io/en/stable/user_install.html\">Jupyter\n",
       "  Widgets Documentation</a> for setup instructions.\n",
       "</p>\n",
       "<p>\n",
       "  If you're reading this message in another frontend (for example, a static\n",
       "  rendering on GitHub or <a href=\"https://nbviewer.jupyter.org/\">NBViewer</a>),\n",
       "  it may mean that your frontend doesn't currently support widgets.\n",
       "</p>\n"
      ],
      "text/plain": [
       "Button(description='Do Fitting', style=ButtonStyle())"
      ]
     },
     "metadata": {},
     "output_type": "display_data"
    }
   ],
   "source": [
    "fit_but = widgets.Button(description='Do Fitting')\n",
    "    \n",
    "def fit_but_cb(change):\n",
    "    \n",
    "    with errout:\n",
    "        clear_output()\n",
    "    \n",
    "    f.save('tmpfile')\n",
    "    if fnm[-3:]=='txt':\n",
    "        sp='\\t'\n",
    "    elif fnm[-3:]=='csv':\n",
    "        sp=','\n",
    "    else:\n",
    "        errprint(0)\n",
    "        return\n",
    "    \n",
    "    with plist:\n",
    "        clear_output()\n",
    "        print('Reading daata file...')\n",
    "    data = pd.read_csv('tmpfile',sep=sp,header=None)\n",
    "    with plist:\n",
    "        clear_output()\n",
    "        print('Data file read')\n",
    "    \n",
    "    n=int(data.size/len(data)) #n determines the size of the data file\n",
    "\n",
    "    ##Single Spectra Data File, n=2    \n",
    "    if n==2:\n",
    "        with plist:\n",
    "            clear_output()\n",
    "            print('Fitting single spectra data.')\n",
    "        I,W=Spectra(data)\n",
    "    \n",
    "        PG,PGp,If,PD,IDfit,Q,diffs,mdi,md,mf=Fit(I,W)\n",
    "\n",
    "        dtplot(I,W,If,IDfit,mf,Q,PG,PGp,PD)\n",
    "\n",
    "        with diffsplot:\n",
    "            clear_output()\n",
    "            plt.plot(diffs,'kv')\n",
    "            plt.plot(mdi,md,'gv')\n",
    "            plt.annotate((round(Decimal(md),2)),xy=(mdi,1.2*md))\n",
    "            plt.xticks(range(6),('1','2','3','4','5','Graphite'))\n",
    "            plt.xlabel('# Layers')\n",
    "            plt.ylabel('$\\Delta$ [%]')\n",
    "            plt.show()\n",
    "\n",
    "        with plist:\n",
    "            clear_output()\n",
    "            G=GL('GREEK CAPITAL LETTER GAMMA')\n",
    "            o=GL('GREEK SMALL LETTER OMEGA')\n",
    "            print('G Fitting Parameters:\\n\\tA=%1.2f\\n\\t%s=%1.2f\\n\\t%s=%1.2f\\n'\n",
    "                  'G\\' Fitting Parameters:\\n\\tA=%1.2f\\n\\t%s=%1.2f\\n\\t%s=%1.2f\\n'\n",
    "                  'D Fitting Parameters:\\n\\tA=%1.2f\\n\\t%s=%1.2f\\n\\t%s=%1.2f\\n'\n",
    "                  'Quality=%1.2f (Ratio of D to G)\\n'\n",
    "                  'Best Case Match: %s'\n",
    "                  %(PG[0],G,PG[1],o,PG[2],PGp[0],G,PGp[1],o,PGp[2],PD[0],G,PD[1],o,PD[2],Q,case_lookup(mdi)))\n",
    "    #Map files will be much larger than 2 points and need separate handling\n",
    "    elif n > 2:\n",
    "        Map(data,n)\n",
    "    else:\n",
    "        errprint(0)\n",
    "        return\n",
    "    \n",
    "fit_but.on_click(fit_but_cb)\n",
    "fit_but"
   ]
  },
  {
   "cell_type": "code",
   "execution_count": 27,
   "metadata": {
    "extensions": {
     "jupyter_dashboards": {
      "version": 1,
      "views": {
       "grid_default": {
        "hidden": true
       },
       "report_default": {}
      }
     }
    }
   },
   "outputs": [],
   "source": [
    "def Map(data,n):\n",
    "    W=data[:][0:1]\n",
    "    W=np.array(W)\n",
    "    W=W[~np.isnan(W)]\n",
    "    \n",
    "    x=data[0]\n",
    "    x=np.array(x)\n",
    "    x=x[~np.isnan(x)]\n",
    "    \n",
    "    y=data[1]\n",
    "    y=np.array(y)\n",
    "    y=y[~np.isnan(y)]\n",
    "    \n",
    "    PG=np.zeros((n,3));PGp=np.zeros((n,3));PD=np.zeros((n,3));\n",
    "    diffs=np.zeros((n,5));\n",
    "    Q=np.zeros(n);mdi=np.zeros(n);md=np.zeros(n);\n",
    "    I=np.zeros((n,1024));If=np.zeros((n,1024));mf=np.zeros((n,1024));IDfit=np.zeros((n,1024))\n",
    "    \n",
    "    GShift=np.zeros(n)\n",
    "    \n",
    "    for k in range(n):    \n",
    "        pdone=100*(k+1)/n\n",
    "        with plist:\n",
    "            clear_output()\n",
    "            print('Fitting map data. This may take some time...\\n%1.2f Done'%pdone)\n",
    "        \n",
    "        I_raw=np.array(data)[k+1][2:1026]\n",
    "        i=((I_raw-np.min(I_raw))/np.max(I_raw-np.min(I_raw)))\n",
    "        pG,pGp,i_f,pD,iDfit,q,Diffs,Mdi,Md,Mf=Fit(i,W)\n",
    "        \n",
    "        I[k]=np.transpose(i)\n",
    "        If[k]=np.transpose(i_f)\n",
    "        mf=np.transpose(Mf)\n",
    "        #diffs[k]=np.transpose(Diffs)\n",
    "        Q[k]=q\n",
    "        mdi[k]=Mdi\n",
    "        md[k]=Md\n",
    "        \n",
    "        for j in range(3):\n",
    "            PG[k][j]=pG[j]\n",
    "            PGp[k][j]=pGp[j]\n",
    "            PD[k][j]=pD[j]\n",
    "        \n",
    "        GShift[k]=pG[2]\n",
    "        \n",
    "        dtplot(i,W,i_f,iDfit,Mf,q,pG,pGp,pD)\n",
    "        with diffsplot:\n",
    "            clear_output()\n",
    "            plt.hist(GShift[0:k],bins='auto')\n",
    "            plt.show()"
   ]
  },
  {
   "cell_type": "code",
   "execution_count": 28,
   "metadata": {
    "extensions": {
     "jupyter_dashboards": {
      "version": 1,
      "views": {
       "grid_default": {
        "hidden": true
       },
       "report_default": {
        "hidden": true
       }
      }
     }
    }
   },
   "outputs": [],
   "source": [
    "def Spectra(data):\n",
    "    srow=0;\n",
    "    if type(data[0][0])==str:\n",
    "        srow=1\n",
    "    \n",
    "    W=data[0][srow:len(data)]\n",
    "    W=np.array(W);W=W.astype(float)\n",
    "    I_raw=data[1][srow:len(data)]\n",
    "    I_raw=np.array(I_raw);I_raw=I_raw.astype(float)\n",
    "    I=((I_raw-np.min(I_raw))/np.max(I_raw-np.min(I_raw)));\n",
    "    return I,W"
   ]
  },
  {
   "cell_type": "code",
   "execution_count": 29,
   "metadata": {
    "extensions": {
     "jupyter_dashboards": {
      "version": 1,
      "views": {
       "grid_default": {
        "hidden": true
       },
       "report_default": {}
      }
     }
    }
   },
   "outputs": [],
   "source": [
    "def Fit(I,W):\n",
    "    pG=[np.max(I), 5, 1581.6] #a w b\n",
    "    pGp=[np.max(I), 18, 2675]\n",
    "    PG=%octave -i pG,W,I lsqcurvefit(@Single_Lorentz,pG,W,I,[0,0,1400],[max(I),50,2000]);\n",
    "    PGp=%octave -i pGp,W,I lsqcurvefit(@Single_Lorentz,pGp,W,I,[0,0,2000],[max(I),100,3000]);\n",
    "    PG[1]=np.absolute(PG[1]);PGp[1]=np.absolute(PGp[1]); #FWHM sometimes returns - bc always squared\n",
    "    IGfit=%octave -i PG,W Single_Lorentz(PG,W);\n",
    "    IGpfit=%octave -i PGp,W Single_Lorentz(PGp,W);\n",
    "    IGfit=IGfit[0];IGpfit=IGpfit[0];\n",
    "    If=IGfit+IGpfit;\n",
    "    \n",
    "    \n",
    "    pD=[np.max(I),5,1300]\n",
    "    PD=%octave -i pD,W,I lsqcurvefit(@Single_Lorentz,pD,W,I,[0,0,1200],[max(I),50,1400]);\n",
    "    PD[1]=np.absolute(PD[1]);\n",
    "    IDfit=%octave -i PD,W Single_Lorentz(PD,W);\n",
    "    IDfit=IDfit[0]\n",
    "    Q=1-(PD[0]/PG[0])\n",
    "    Q=Decimal(Q[0])\n",
    "    \n",
    "    Cdat=np.load('Cfits.npy')\n",
    "\n",
    "    diffs_lin=[];diffs_Gp=[];\n",
    "    diffs=[];\n",
    "    for d in range(6):\n",
    "        \n",
    "        LG=Cdat[d][0];\n",
    "        LGp=Cdat[d][1];\n",
    "        LGfit=%octave -i LG,W Single_Lorentz(LG,W); \n",
    "        LGpfit=%octave -i LGp,W Single_Lorentz(LGp,W);\n",
    "        Lf=(LGfit+LGpfit)\n",
    " \n",
    "        dfGp=np.average(np.absolute(100*(PGp-LGp)/LGp))\n",
    "        dfG=np.average(np.absolute(100*(PG-LG)/LG))\n",
    "        df=np.average([dfGp,dfG])\n",
    "        diffs.append(df)\n",
    "  \n",
    "    md=np.min(diffs)\n",
    "    mdi=np.argmin(diffs)\n",
    "\n",
    "    mG=Cdat[mdi][0];mGp=Cdat[mdi][1];\n",
    "    mGfit=%octave -i mG,W Single_Lorentz(mG,W);\n",
    "    mGpfit=%octave -i mGp,W Single_Lorentz(mGp,W);\n",
    "    mf=mGfit+mGpfit;mf=mf[0]\n",
    "    return PG,PGp,If,PD,IDfit,Q,diffs,mdi,md,mf"
   ]
  },
  {
   "cell_type": "code",
   "execution_count": 30,
   "metadata": {
    "extensions": {
     "jupyter_dashboards": {
      "version": 1,
      "views": {
       "grid_default": {
        "hidden": true
       },
       "report_default": {}
      }
     }
    }
   },
   "outputs": [],
   "source": [
    "def dtplot(I,W,If,IDfit,mf,Q,PG,PGp,PD):\n",
    "        with datplot:\n",
    "            clear_output()\n",
    "            plt.plot(W,I,'b',W,If+IDfit,'r',W,mf,'g')\n",
    "            plt.xlabel('$\\omega$ $[cm^{-1}]$')\n",
    "            plt.ylabel('$I_{norm}$ [arb]')\n",
    "            plt.legend(labels=['Raw','Fit','Test'])\n",
    "            plt.annotate('Q=%1.2f' %round(Q,2) ,xy=(np.min(W),0.98))\n",
    "            plt.annotate('D',xy=(0.85*PD[2],1.1*PD[0]))\n",
    "            plt.annotate('G',xy=(0.9*PG[2],0.95*PG[0]))\n",
    "            plt.annotate('G\\'',xy=(0.94*PGp[2],0.95*PGp[0]))\n",
    "            plt.show()"
   ]
  },
  {
   "cell_type": "code",
   "execution_count": 31,
   "metadata": {
    "extensions": {
     "jupyter_dashboards": {
      "version": 1,
      "views": {
       "grid_default": {
        "col": 0,
        "height": 9,
        "hidden": false,
        "row": 2,
        "width": 4
       },
       "report_default": {}
      }
     }
    }
   },
   "outputs": [
    {
     "data": {
      "application/vnd.jupyter.widget-view+json": {
       "model_id": "2768355f51bb4775bddcee9c5a1b59b4",
       "version_major": 2,
       "version_minor": 0
      },
      "text/html": [
       "<p>Failed to display Jupyter Widget of type <code>Output</code>.</p>\n",
       "<p>\n",
       "  If you're reading this message in the Jupyter Notebook or JupyterLab Notebook, it may mean\n",
       "  that the widgets JavaScript is still loading. If this message persists, it\n",
       "  likely means that the widgets JavaScript library is either not installed or\n",
       "  not enabled. See the <a href=\"https://ipywidgets.readthedocs.io/en/stable/user_install.html\">Jupyter\n",
       "  Widgets Documentation</a> for setup instructions.\n",
       "</p>\n",
       "<p>\n",
       "  If you're reading this message in another frontend (for example, a static\n",
       "  rendering on GitHub or <a href=\"https://nbviewer.jupyter.org/\">NBViewer</a>),\n",
       "  it may mean that your frontend doesn't currently support widgets.\n",
       "</p>\n"
      ],
      "text/plain": [
       "Output()"
      ]
     },
     "metadata": {},
     "output_type": "display_data"
    }
   ],
   "source": [
    "datplot=widgets.Output();datplot"
   ]
  },
  {
   "cell_type": "code",
   "execution_count": 32,
   "metadata": {
    "extensions": {
     "jupyter_dashboards": {
      "version": 1,
      "views": {
       "grid_default": {
        "col": 4,
        "height": 9,
        "hidden": false,
        "row": 2,
        "width": 4
       },
       "report_default": {}
      }
     }
    }
   },
   "outputs": [
    {
     "data": {
      "application/vnd.jupyter.widget-view+json": {
       "model_id": "08c54a0329ed4e7fa8299cfe2944f8f3",
       "version_major": 2,
       "version_minor": 0
      },
      "text/html": [
       "<p>Failed to display Jupyter Widget of type <code>Output</code>.</p>\n",
       "<p>\n",
       "  If you're reading this message in the Jupyter Notebook or JupyterLab Notebook, it may mean\n",
       "  that the widgets JavaScript is still loading. If this message persists, it\n",
       "  likely means that the widgets JavaScript library is either not installed or\n",
       "  not enabled. See the <a href=\"https://ipywidgets.readthedocs.io/en/stable/user_install.html\">Jupyter\n",
       "  Widgets Documentation</a> for setup instructions.\n",
       "</p>\n",
       "<p>\n",
       "  If you're reading this message in another frontend (for example, a static\n",
       "  rendering on GitHub or <a href=\"https://nbviewer.jupyter.org/\">NBViewer</a>),\n",
       "  it may mean that your frontend doesn't currently support widgets.\n",
       "</p>\n"
      ],
      "text/plain": [
       "Output()"
      ]
     },
     "metadata": {},
     "output_type": "display_data"
    }
   ],
   "source": [
    "diffsplot=widgets.Output();diffsplot"
   ]
  },
  {
   "cell_type": "code",
   "execution_count": 33,
   "metadata": {
    "extensions": {
     "jupyter_dashboards": {
      "version": 1,
      "views": {
       "grid_default": {
        "col": 0,
        "height": 2,
        "hidden": false,
        "row": 11,
        "width": 8
       },
       "report_default": {}
      }
     }
    }
   },
   "outputs": [
    {
     "data": {
      "application/vnd.jupyter.widget-view+json": {
       "model_id": "813d20638cc142dcbac1199b08aaa221",
       "version_major": 2,
       "version_minor": 0
      },
      "text/html": [
       "<p>Failed to display Jupyter Widget of type <code>Output</code>.</p>\n",
       "<p>\n",
       "  If you're reading this message in the Jupyter Notebook or JupyterLab Notebook, it may mean\n",
       "  that the widgets JavaScript is still loading. If this message persists, it\n",
       "  likely means that the widgets JavaScript library is either not installed or\n",
       "  not enabled. See the <a href=\"https://ipywidgets.readthedocs.io/en/stable/user_install.html\">Jupyter\n",
       "  Widgets Documentation</a> for setup instructions.\n",
       "</p>\n",
       "<p>\n",
       "  If you're reading this message in another frontend (for example, a static\n",
       "  rendering on GitHub or <a href=\"https://nbviewer.jupyter.org/\">NBViewer</a>),\n",
       "  it may mean that your frontend doesn't currently support widgets.\n",
       "</p>\n"
      ],
      "text/plain": [
       "Output()"
      ]
     },
     "metadata": {},
     "output_type": "display_data"
    }
   ],
   "source": [
    "errout=widgets.Output();errout"
   ]
  },
  {
   "cell_type": "code",
   "execution_count": 34,
   "metadata": {
    "extensions": {
     "jupyter_dashboards": {
      "version": 1,
      "views": {
       "grid_default": {
        "col": 8,
        "height": 9,
        "hidden": false,
        "row": 0,
        "width": 3
       },
       "report_default": {}
      }
     }
    }
   },
   "outputs": [
    {
     "data": {
      "application/vnd.jupyter.widget-view+json": {
       "model_id": "76df89e524b9422e9b3fbd5b521143b0",
       "version_major": 2,
       "version_minor": 0
      },
      "text/html": [
       "<p>Failed to display Jupyter Widget of type <code>Output</code>.</p>\n",
       "<p>\n",
       "  If you're reading this message in the Jupyter Notebook or JupyterLab Notebook, it may mean\n",
       "  that the widgets JavaScript is still loading. If this message persists, it\n",
       "  likely means that the widgets JavaScript library is either not installed or\n",
       "  not enabled. See the <a href=\"https://ipywidgets.readthedocs.io/en/stable/user_install.html\">Jupyter\n",
       "  Widgets Documentation</a> for setup instructions.\n",
       "</p>\n",
       "<p>\n",
       "  If you're reading this message in another frontend (for example, a static\n",
       "  rendering on GitHub or <a href=\"https://nbviewer.jupyter.org/\">NBViewer</a>),\n",
       "  it may mean that your frontend doesn't currently support widgets.\n",
       "</p>\n"
      ],
      "text/plain": [
       "Output()"
      ]
     },
     "metadata": {},
     "output_type": "display_data"
    }
   ],
   "source": [
    "plist=widgets.Output();plist"
   ]
  },
  {
   "cell_type": "code",
   "execution_count": null,
   "metadata": {
    "extensions": {
     "jupyter_dashboards": {
      "version": 1,
      "views": {
       "grid_default": {
        "hidden": true
       },
       "report_default": {}
      }
     }
    }
   },
   "outputs": [],
   "source": []
  }
 ],
 "metadata": {
  "extensions": {
   "jupyter_dashboards": {
    "activeView": "grid_default",
    "version": 1,
    "views": {
     "grid_default": {
      "cellMargin": 10,
      "defaultCellHeight": 20,
      "maxColumns": 12,
      "name": "grid",
      "type": "grid"
     },
     "report_default": {
      "name": "report",
      "type": "report"
     }
    }
   }
  },
  "kernelspec": {
   "display_name": "Python3",
   "language": "python",
   "name": "python3"
  },
  "language_info": {
   "codemirror_mode": {
    "name": "ipython",
    "version": 3
   },
   "file_extension": ".py",
   "mimetype": "text/x-python",
   "name": "python",
   "nbconvert_exporter": "python",
   "pygments_lexer": "ipython3",
   "version": "3.6.2"
  }
 },
 "nbformat": 4,
 "nbformat_minor": 2
}
