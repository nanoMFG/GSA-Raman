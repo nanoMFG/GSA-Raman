{
 "cells": [
  {
   "cell_type": "code",
   "execution_count": 1,
   "metadata": {
    "extensions": {
     "jupyter_dashboards": {
      "version": 1,
      "views": {
       "grid_default": {
        "col": 0,
        "height": 4,
        "hidden": true,
        "row": 0,
        "width": 12
       },
       "report_default": {}
      }
     }
    }
   },
   "outputs": [],
   "source": [
    "import hublib\n",
    "import pandas as pd\n",
    "import ipywidgets as widgets\n",
    "from IPython.display import clear_output\n",
    "import matplotlib\n",
    "import matplotlib.pyplot as plt\n",
    "import scipy\n",
    "import numpy as np\n",
    "from decimal import Decimal\n",
    "import unicodedata\n",
    "from unicodedata import lookup as GL\n",
    "import sympy as sy\n",
    "import time\n",
    "from joblib import Parallel, delayed"
   ]
  },
  {
   "cell_type": "code",
   "execution_count": 2,
   "metadata": {
    "extensions": {
     "jupyter_dashboards": {
      "version": 1,
      "views": {
       "grid_default": {
        "col": 0,
        "height": 4,
        "hidden": true,
        "row": 0,
        "width": 12
       },
       "report_default": {}
      }
     }
    }
   },
   "outputs": [],
   "source": [
    "class Spectrum:\n",
    "    def __init__(self):\n",
    "        self.x=0\n",
    "        self.y=0\n",
    "        self.I=[]\n",
    "        self.W=[]\n",
    "        self.If=[]\n",
    "        self.PG=[]\n",
    "        self.PGp=[]\n",
    "        self.PD=[]\n",
    "        self.IDfit=[]\n",
    "        self.Q=0\n",
    "        self.diffs=[]\n",
    "        self.mdi=0\n",
    "        self.md=0\n",
    "        self.mf=[]"
   ]
  },
  {
   "cell_type": "code",
   "execution_count": 3,
   "metadata": {
    "extensions": {
     "jupyter_dashboards": {
      "version": 1,
      "views": {
       "grid_default": {
        "hidden": true
       },
       "report_default": {}
      }
     }
    }
   },
   "outputs": [],
   "source": [
    "global Specs\n",
    "Specs=[]"
   ]
  },
  {
   "cell_type": "code",
   "execution_count": 4,
   "metadata": {
    "extensions": {
     "jupyter_dashboards": {
      "version": 1,
      "views": {
       "grid_default": {
        "col": 0,
        "height": 2,
        "hidden": false,
        "row": 0,
        "width": 6
       },
       "report_default": {}
      }
     }
    }
   },
   "outputs": [
    {
     "data": {
      "application/javascript": [
       "\n",
       "requirejs.undef('filepicker');\n",
       "\n",
       "define('filepicker', [\"jupyter-js-widgets\"], function(widgets) {\n",
       "\n",
       "    var FilePickerView = widgets.DOMWidgetView.extend({\n",
       "        render: function(){\n",
       "            this.file = document.createElement('input');\n",
       "            this.file.setAttribute('class', 'fileinput');\n",
       "            this.file.setAttribute('id', this.cid);\n",
       "            this.file.multiple = this.model.get('multiple');\n",
       "            this.file.required = true;\n",
       "            this.file.setAttribute('type', 'file');\n",
       "            this.file.setAttribute('style', 'display:none');\n",
       "\n",
       "            this.label = document.createElement('label');\n",
       "            this.label.setAttribute('for', this.cid);\n",
       "            this.label.setAttribute('style', 'border: 1px solid; border-radius: 5px; display: inline-block; padding: 6px 12px');\n",
       "\n",
       "            this.icon = document.createElement('i');\n",
       "            this.icon.setAttribute(\"class\", \"fa fa-upload\");\n",
       "\n",
       "            if (this.file.multiple) {\n",
       "                this.labelstr = \"  Upload Files\";\n",
       "            } else {\n",
       "                this.labelstr = \"  Upload File\";\n",
       "            }\n",
       "            this.label.innerHTML = this.labelstr;\n",
       "            this.label.prepend(this.icon);\n",
       "            this.el.appendChild(this.label);\n",
       "            this.el.appendChild(this.file);\n",
       "            this.update();\n",
       "        },\n",
       "\n",
       "        events: {\n",
       "            // List of events and their handlers.\n",
       "            'change': 'handle_file_change',\n",
       "        },\n",
       "\n",
       "        handle_file_change: function(evt) {\n",
       "\n",
       "            var that = this;\n",
       "            var files = evt.target.files;\n",
       "            var filenames = [];\n",
       "            var skipped = [];\n",
       "            var file_readers = [];\n",
       "\n",
       "            for (var i = 0; i < files.length; i++) {\n",
       "                var file = files[i];\n",
       "                console.log(\"Filename: \" + file.name);\n",
       "                console.log(\"Type: \" + file.type);\n",
       "                console.log(\"Size: \" + file.size + \" bytes\");\n",
       "                if (file.size > this.model.get('maxsize')) {\n",
       "                    skipped.push(file.name);\n",
       "                    continue;\n",
       "                };\n",
       "                filenames.push(file.name);\n",
       "\n",
       "                // Read the file's textual content and set value_i to those contents.\n",
       "                file_readers.push(new FileReader());\n",
       "                file_readers[i].onload = (function(file, i) {\n",
       "                    return function(e) {\n",
       "                        that.model.set('value_' + i, e.target.result);\n",
       "                        that.touch();\n",
       "                        console.log(\"file_\" + i + \" loaded: \" + file.name);\n",
       "                    };\n",
       "                })(file, i);\n",
       "                file_readers[i].readAsDataURL(file);\n",
       "            };\n",
       "\n",
       "            // update the label\n",
       "            if (filenames.length == 0) {\n",
       "                this.label.innerHTML = this.labelstr;\n",
       "            } else if (filenames.length == 1) {\n",
       "                this.label.innerHTML = \"  \" + filenames[0];\n",
       "            } else {\n",
       "                this.label.innerHTML = \"  \" + filenames.length + \" files selected\";\n",
       "            };\n",
       "            this.label.prepend(this.icon);\n",
       "\n",
       "            // Set the filenames of the files.\n",
       "            this.model.set('filenames', filenames);\n",
       "            this.model.set('skipped', skipped);\n",
       "            this.touch();\n",
       "        },\n",
       "    });\n",
       "\n",
       "    // Register the FilePickerView with the widget manager.\n",
       "    return {\n",
       "        FilePickerView: FilePickerView\n",
       "    };\n",
       "});\n"
      ],
      "text/plain": [
       "<IPython.core.display.Javascript object>"
      ]
     },
     "metadata": {},
     "output_type": "display_data"
    },
    {
     "data": {
      "text/html": [
       "\n",
       "<script>\n",
       "requirejs.config({\n",
       "    paths: {\n",
       "        'ace': ['//cdnjs.cloudflare.com/ajax/libs/ace/1.2.6/ace'],\n",
       "    },\n",
       "});\n",
       "\n",
       "require(['ace'], function(ace) {\n",
       "    console.log(\"ACE loaded :)\");\n",
       "    return {};\n",
       "});\n",
       "</script>\n",
       "\n",
       "<script>\n",
       "requirejs.undef('editor');\n",
       "\n",
       "define('editor', [\"jupyter-js-widgets\"], function(widgets) {\n",
       "\n",
       "    var EditorView = widgets.DOMWidgetView.extend({\n",
       "\n",
       "        // Render the view.\n",
       "        render: function() {\n",
       "            this.ignorex = false;\n",
       "            this.ignorev = false;\n",
       "            //console.log('RENDER '+this.model.get('name'));\n",
       "            this.div = document.createElement('div');\n",
       "            this.div.setAttribute('id', this.model.get('name'));\n",
       "            this.el.appendChild(this.div);\n",
       "            this.listenTo(this.model, 'change:state', this._state_changed, this);\n",
       "            this.listenTo(this.model, 'change:theme', this._theme_changed, this);\n",
       "            this.listenTo(this.model, 'change:mode', this._mode_changed, this);\n",
       "            this.listenTo(this.model, 'change:value2', this._value2_changed, this);\n",
       "            this.listenTo(this.model, 'change:showmargin', this._showmargin_changed, this);\n",
       "            this.listenTo(this.model, 'change:fontsize', this._fontsize_changed, this);\n",
       "            this.update();\n",
       "        },\n",
       "        update: function() {\n",
       "            return EditorView.__super__.update.apply(this);\n",
       "        },\n",
       "        // Tell Backbone to listen to the change event of input controls\n",
       "        events: {\n",
       "            \"change\": \"handle_color_change\"\n",
       "        },\n",
       "\n",
       "        _state_changed: function() {\n",
       "            var state = this.model.get('state')\n",
       "            //console.log('state: ' + state );\n",
       "            if (state == 'start') {\n",
       "                var that = this;\n",
       "                this._ed = ace.edit(this.model.get('name'));\n",
       "                this._ed.getSession().on('change', function(e) {\n",
       "                    if (that.ignorev == true) { return }\n",
       "                    that.ignorex = true;\n",
       "                    //console.log('CHANGE1');\n",
       "                    that.model.set('value2', that._ed.getValue());\n",
       "                    //console.log('CHANGE2');\n",
       "                    that.touch();\n",
       "                    //console.log('CHANGE3');\n",
       "                    that.ignorex = false;\n",
       "                });\n",
       "            };\n",
       "        },\n",
       "        _theme_changed: function() {\n",
       "            //console.log(\"theme \" + this.model.get('theme'));\n",
       "            this._ed.setTheme(\"ace/theme/\"+this.model.get('theme'));\n",
       "        },\n",
       "        _mode_changed: function() {\n",
       "            //console.log(\"mode \" + this.model.get('mode'));\n",
       "            this._ed.getSession().setMode(\"ace/mode/\"+this.model.get('mode'));\n",
       "        },\n",
       "        _value2_changed: function() {\n",
       "            //console.log('value2 ' + this.ignorex);\n",
       "            if (this.ignorex == true) { return };\n",
       "            var val = this.model.get('value2');\n",
       "            //console.log('VALUE2 ' + val);\n",
       "            this.ignorev = true;\n",
       "            this._ed.setValue(val);\n",
       "            this.ignorev = false;\n",
       "            //console.log('VALUE2 DONE');\n",
       "        },\n",
       "        _showmargin_changed: function() {\n",
       "            this._ed.setShowPrintMargin(this.model.get('showmargin'));\n",
       "        },\n",
       "        _fontsize_changed: function() {\n",
       "            document.getElementById(this.model.get('name')).style.fontSize=this.model.get('fontsize');\n",
       "        },\n",
       "\n",
       "        // Callback for when the color is changed.\n",
       "        handle_color_change: function(event) {\n",
       "            console.log('SOMETHING CHNAGED');\n",
       "            console.log(event);\n",
       "        },\n",
       "    });\n",
       "\n",
       "    return {\n",
       "        EditorView: EditorView\n",
       "    };\n",
       "});\n",
       "</script>\n"
      ],
      "text/plain": [
       "<IPython.core.display.HTML object>"
      ]
     },
     "metadata": {},
     "output_type": "display_data"
    },
    {
     "data": {
      "application/vnd.jupyter.widget-view+json": {
       "model_id": "f608a2891066465691771ce860960bb7",
       "version_major": 2,
       "version_minor": 0
      },
      "text/html": [
       "<p>Failed to display Jupyter Widget of type <code>Box</code>.</p>\n",
       "<p>\n",
       "  If you're reading this message in the Jupyter Notebook or JupyterLab Notebook, it may mean\n",
       "  that the widgets JavaScript is still loading. If this message persists, it\n",
       "  likely means that the widgets JavaScript library is either not installed or\n",
       "  not enabled. See the <a href=\"https://ipywidgets.readthedocs.io/en/stable/user_install.html\">Jupyter\n",
       "  Widgets Documentation</a> for setup instructions.\n",
       "</p>\n",
       "<p>\n",
       "  If you're reading this message in another frontend (for example, a static\n",
       "  rendering on GitHub or <a href=\"https://nbviewer.jupyter.org/\">NBViewer</a>),\n",
       "  it may mean that your frontend doesn't currently support widgets.\n",
       "</p>\n"
      ],
      "text/plain": [
       "Box(children=(HTML(value='<p data-toggle=\"popover\" title=\"Raman data files should be uploaded as 2 column CSV files\">Please upload Raman spectra data file (CSV)</p>', layout=Layout(flex='2 1 auto')), FileWidget(maxsize=10000000)), layout=Layout(border='solid 1px lightgray', display='flex', flex_flow='row', justify_content='space-between', width='auto'))"
      ]
     },
     "metadata": {},
     "output_type": "display_data"
    }
   ],
   "source": [
    "from hublib.ui import FileUpload\n",
    "\n",
    "def mycb(name,val):\n",
    "    #print(\"CB %s (length = %s bytes)\" % (name, len(val)))\n",
    "    global fnm\n",
    "    fnm=name\n",
    "\n",
    "f = FileUpload(\"Please upload Raman spectra data file (CSV)\", \n",
    "               \"Raman data files should be uploaded as 2 column CSV files\",cb=mycb,maxsize=10000000)\n",
    "f"
   ]
  },
  {
   "cell_type": "code",
   "execution_count": 5,
   "metadata": {
    "extensions": {
     "jupyter_dashboards": {
      "version": 1,
      "views": {
       "grid_default": {
        "col": 0,
        "height": 4,
        "hidden": true,
        "row": 0,
        "width": 12
       },
       "report_default": {}
      }
     }
    }
   },
   "outputs": [],
   "source": [
    "def errprint(code):\n",
    "    errfile=pd.read_csv('errfile.txt',sep='\\t',header=None)\n",
    "    with errout:\n",
    "        clear_output()\n",
    "        print(errfile[0][code])\n",
    "        errout"
   ]
  },
  {
   "cell_type": "code",
   "execution_count": 6,
   "metadata": {
    "extensions": {
     "jupyter_dashboards": {
      "version": 1,
      "views": {
       "grid_default": {
        "col": 0,
        "height": 4,
        "hidden": true,
        "row": 0,
        "width": 12
       },
       "report_default": {}
      }
     }
    }
   },
   "outputs": [],
   "source": [
    "def case_lookup(index):\n",
    "    casefile=pd.read_csv('Case_List.txt',sep='\\t',header=None)\n",
    "    c=casefile[0][index]\n",
    "    return c"
   ]
  },
  {
   "cell_type": "code",
   "execution_count": 7,
   "metadata": {
    "extensions": {
     "jupyter_dashboards": {
      "version": 1,
      "views": {
       "grid_default": {
        "col": 6,
        "height": 2,
        "hidden": false,
        "row": 0,
        "width": 2
       },
       "report_default": {}
      }
     }
    },
    "scrolled": true
   },
   "outputs": [
    {
     "data": {
      "application/vnd.jupyter.widget-view+json": {
       "model_id": "9d19e999cdb94c5abeba5a198cc336b9",
       "version_major": 2,
       "version_minor": 0
      },
      "text/html": [
       "<p>Failed to display Jupyter Widget of type <code>Button</code>.</p>\n",
       "<p>\n",
       "  If you're reading this message in the Jupyter Notebook or JupyterLab Notebook, it may mean\n",
       "  that the widgets JavaScript is still loading. If this message persists, it\n",
       "  likely means that the widgets JavaScript library is either not installed or\n",
       "  not enabled. See the <a href=\"https://ipywidgets.readthedocs.io/en/stable/user_install.html\">Jupyter\n",
       "  Widgets Documentation</a> for setup instructions.\n",
       "</p>\n",
       "<p>\n",
       "  If you're reading this message in another frontend (for example, a static\n",
       "  rendering on GitHub or <a href=\"https://nbviewer.jupyter.org/\">NBViewer</a>),\n",
       "  it may mean that your frontend doesn't currently support widgets.\n",
       "</p>\n"
      ],
      "text/plain": [
       "Button(description='Do Fitting', style=ButtonStyle())"
      ]
     },
     "metadata": {},
     "output_type": "display_data"
    }
   ],
   "source": [
    "fit_but = widgets.Button(description='Do Fitting')\n",
    "    \n",
    "def fit_but_cb(change):\n",
    "    \n",
    "    with errout:\n",
    "        clear_output()\n",
    "    with diffsplot:\n",
    "        clear_output()\n",
    "    with datplot:\n",
    "        clear_output()\n",
    "    with plist:\n",
    "        clear_output()\n",
    "        \n",
    "    f.save('tmpfile')\n",
    "    if fnm[-3:]=='txt':\n",
    "        sp='\\t'\n",
    "    elif fnm[-3:]=='csv':\n",
    "        sp=','\n",
    "    else:\n",
    "        errprint(0)\n",
    "        return\n",
    "    \n",
    "    with plist:\n",
    "        clear_output()\n",
    "        print('Reading daata file...')\n",
    "    data = pd.read_csv('tmpfile',sep=sp,header=None)\n",
    "    with plist:\n",
    "        clear_output()\n",
    "        print('Data file read')\n",
    "    \n",
    "    n=int(data.size/len(data)) #n determines the size of the data file\n",
    "\n",
    "    ##Single Spectra Data File, n=2    \n",
    "    if n==2:\n",
    "        with plist:\n",
    "            clear_output()\n",
    "            print('Fitting single spectra data.')\n",
    "        \n",
    "        s=Spectrum()\n",
    "        Spectra(s,data)\n",
    "        Fit(s)\n",
    "        \n",
    "        dtplot(s)\n",
    "\n",
    "        with diffsplot:\n",
    "            clear_output()\n",
    "            plt.plot(s.diffs,'kv')\n",
    "            plt.plot(s.mdi,s.md,'gv')\n",
    "            plt.annotate((round(Decimal(s.md),2)),xy=(s.mdi,1.2*s.md))\n",
    "            plt.xticks(range(6),('1','2','3','4','5','Graphite'))\n",
    "            plt.xlabel('# Layers')\n",
    "            plt.ylabel('$\\Delta$ [%]')\n",
    "            plt.show()\n",
    "\n",
    "        with plist:\n",
    "            clear_output()\n",
    "            G=GL('GREEK CAPITAL LETTER GAMMA')\n",
    "            o=GL('GREEK SMALL LETTER OMEGA')\n",
    "            print('G Fitting Parameters:\\n\\tA=%1.2f\\n\\t%s=%1.2f\\n\\t%s=%1.2f\\n'\n",
    "                  'G\\' Fitting Parameters:\\n\\tA=%1.2f\\n\\t%s=%1.2f\\n\\t%s=%1.2f\\n'\n",
    "                  'D Fitting Parameters:\\n\\tA=%1.2f\\n\\t%s=%1.2f\\n\\t%s=%1.2f\\n'\n",
    "                  'Quality=%1.2f (Ratio of D to G)\\n'\n",
    "                  'Best Case Match: %s'\n",
    "                  %(s.PG[0],G,s.PG[1],o,s.PG[2],s.PGp[0],G,s.PGp[1],o,s.PGp[2],s.PD[0],G,s.PD[1],o,s.PD[2],s.Q,case_lookup(s.mdi)))\n",
    "\n",
    "    #Map files will be much larger than 2 points and need separate handling\n",
    "    elif n > 2:\n",
    "        Specs=[]\n",
    "        Map(data)\n",
    "    else:\n",
    "        errprint(0)\n",
    "        return\n",
    "    \n",
    "fit_but.on_click(fit_but_cb)\n",
    "fit_but"
   ]
  },
  {
   "cell_type": "code",
   "execution_count": 8,
   "metadata": {
    "extensions": {
     "jupyter_dashboards": {
      "version": 1,
      "views": {
       "grid_default": {
        "col": 0,
        "height": 4,
        "hidden": true,
        "row": 0,
        "width": 12
       },
       "report_default": {}
      }
     }
    }
   },
   "outputs": [],
   "source": [
    "def Map(data):\n",
    "    \n",
    "    t1=time.clock()\n",
    "    T1=t1\n",
    "    \n",
    "    W=data[:][0:1]\n",
    "    W=np.array(W)\n",
    "    W=W[~np.isnan(W)]\n",
    "    \n",
    "    x=data[0]\n",
    "    x=np.array(x)\n",
    "    x=x[~np.isnan(x)]\n",
    "    xu=np.unique(x)\n",
    "    \n",
    "    y=data[1]\n",
    "    y=np.array(y)\n",
    "    y=y[~np.isnan(y)]\n",
    "    yu=np.unique(y)\n",
    "    \n",
    "    n=yu.size*xu.size\n",
    "    \n",
    "    s=Spectrum()\n",
    "    \n",
    "    Parallel(n_jobs=1)(delayed(maploop)(s,Specs,data,W,x,y,n,k) for k in range(n))\n",
    "    \n",
    "    wG=np.transpose(np.array([o.PG for o in Specs]))[2]      \n",
    "    Mplot(x,y,wG)\n",
    "    with diffsplot:\n",
    "        clear_output()\n",
    "        plt.hist(wG,bins='auto')\n",
    "        plt.show()\n",
    "    T2=time.clock()\n",
    "    with plist:\n",
    "        clear_output()\n",
    "        print('Fitting Finished\\nActual time [min]: %1.2f'%((T2-T1)/60))\n",
    "    param.disabled=False"
   ]
  },
  {
   "cell_type": "code",
   "execution_count": 9,
   "metadata": {
    "extensions": {
     "jupyter_dashboards": {
      "version": 1,
      "views": {
       "grid_default": {
        "hidden": true
       },
       "report_default": {}
      }
     }
    }
   },
   "outputs": [],
   "source": [
    "def maploop(s,Specs,data,W,x,y,n,k):\n",
    "    #for k in range(n):\n",
    "\n",
    "        s=Spectrum()\n",
    "        \n",
    "        I_raw=np.array(data)[k+1][2:1026]\n",
    "        I=((I_raw-np.min(I_raw))/np.max(I_raw-np.min(I_raw)))\n",
    "        s.I=I\n",
    "        s.W=W\n",
    "        s.x=x[k]\n",
    "        s.y=y[k]\n",
    "        Fit(s)\n",
    "        Specs.append(s)\n",
    "        \n",
    "        t1=time.clock()\n",
    "        t2=time.clock()\n",
    "        dt=(t2-t1)\n",
    "        t1=t2\n",
    "        pdone=100*(k+1)/n\n",
    "        t_e=(n-k)*dt\n",
    "        if t_e<60:\n",
    "            ts='sec'\n",
    "            t_est=t_e\n",
    "        else:\n",
    "            ts='min'\n",
    "            t_est=t_e/60\n",
    "        with plist:\n",
    "            clear_output()\n",
    "            print('Fitting map data. This may take some time...\\n%1.2f%% Done\\nEstimated time left [%s]: %1.2f'%(pdone,ts,t_est))\n",
    "        \n",
    "        return Specs"
   ]
  },
  {
   "cell_type": "code",
   "execution_count": 10,
   "metadata": {
    "extensions": {
     "jupyter_dashboards": {
      "version": 1,
      "views": {
       "grid_default": {
        "col": 0,
        "height": 4,
        "hidden": true,
        "row": 0,
        "width": 12
       },
       "report_default": {}
      }
     }
    }
   },
   "outputs": [],
   "source": [
    "def Mplot(x,y,z):\n",
    "    global p,point,datax\n",
    "    xi = np.linspace(min(x), max(x))\n",
    "    yi = np.linspace(min(y), max(y))\n",
    "    X, Y = np.meshgrid(xi, yi)\n",
    "    \n",
    "    with datplot:\n",
    "        clear_output()\n",
    "        Z=matplotlib.mlab.griddata(x, y, z, xi, yi, interp='linear') \n",
    "        fig = plt.figure() #Plot to choose peaks\n",
    "        datax = fig.add_subplot(111)\n",
    "        p,=datax.plot([0],[0])\n",
    "        point=pickPeaks(p)\n",
    "        datax.contourf(X,Y,Z)\n",
    "        plt.set_cmap('inferno')\n",
    "        plt.xlabel('x [mm]')\n",
    "        plt.ylabel('y [mm]')\n",
    "        plt.title(param.index)\n",
    "        plt.show()"
   ]
  },
  {
   "cell_type": "code",
   "execution_count": 11,
   "metadata": {
    "extensions": {
     "jupyter_dashboards": {
      "version": 1,
      "views": {
       "grid_default": {
        "col": 0,
        "height": 4,
        "hidden": true,
        "row": 0,
        "width": 12
       },
       "report_default": {
        "hidden": true
       }
      }
     }
    }
   },
   "outputs": [],
   "source": [
    "def Spectra(s,data):\n",
    "    srow=0;\n",
    "    if type(data[0][0])==str:\n",
    "        srow=1\n",
    "    \n",
    "    W=data[0][srow:len(data)]\n",
    "    W=np.array(W);W=W.astype(float)\n",
    "    I_raw=data[1][srow:len(data)]\n",
    "    I_raw=np.array(I_raw);I_raw=I_raw.astype(float)\n",
    "    I=((I_raw-np.min(I_raw))/np.max(I_raw-np.min(I_raw)));\n",
    "    s.I=I\n",
    "    s.W=W\n",
    "    return s"
   ]
  },
  {
   "cell_type": "code",
   "execution_count": 12,
   "metadata": {
    "extensions": {
     "jupyter_dashboards": {
      "version": 1,
      "views": {
       "grid_default": {
        "col": 0,
        "height": 4,
        "hidden": true,
        "row": 0,
        "width": 12
       },
       "report_default": {}
      }
     }
    }
   },
   "outputs": [],
   "source": [
    "def Fit(s):\n",
    "    W=s.W\n",
    "    I=s.I\n",
    "    pG=[np.max(I), 5, 1581.6] #a w b\n",
    "    pGp=[np.max(I), 18, 2675]\n",
    "    \n",
    "    #PG=%octave -i pG,W,I lsqcurvefit(@Single_Lorentz,pG,W,I,[0,0,1400],[max(I),50,2000]);\n",
    "    #PGp=%octave -i pGp,W,I lsqcurvefit(@Single_Lorentz,pGp,W,I,[0,0,2000],[max(I),100,3000]);\n",
    "    \n",
    "    PG=scipy.optimize.curve_fit(Single_Lorentz,W,I,pG,bounds=([0,0,1400],[np.max(I),50,2000]))\n",
    "    PGp=scipy.optimize.curve_fit(Single_Lorentz,W,I,pGp,bounds=([0,0,2000],[np.max(I),100,3000]))\n",
    "    \n",
    "    PG=PG[0][:]\n",
    "    PGp=PGp[0][:]\n",
    "    \n",
    "    PG[1]=np.absolute(PG[1]);PGp[1]=np.absolute(PGp[1]); #FWHM sometimes returns - bc always squared\n",
    "    \n",
    "    IGfit=Single_Lorentz(PG[0],PG[1],PG[2],W);\n",
    "    IGpfit=Single_Lorentz(PGp[0],PGp[1],PGp[2],W);\n",
    "    IGfit=IGfit#[0]\n",
    "    IGpfit=IGpfit#[0];\n",
    "    s.If=IGfit+IGpfit;\n",
    "    \n",
    "    s.PG=PG\n",
    "    s.PGp=PGp\n",
    "    \n",
    "    pD=[np.max(I),5,1300]\n",
    "    #PD=%octave -i pD,W,I lsqcurvefit(@Single_Lorentz,pD,W,I,[0,0,1200],[max(I),50,1400]);\n",
    "    PD=scipy.optimize.curve_fit(Single_Lorentz,W,I,pD,bounds=([0,0,1200],[np.max(I),50,1400]))\n",
    "    PD=PD[0][:]\n",
    "    PD[1]=np.absolute(PD[1]);\n",
    "    IDfit=Single_Lorentz(PD[0],PD[1],PD[2],W);\n",
    "    s.IDfit=IDfit#[0]\n",
    "    Q=1-(PD[0]/PG[0])\n",
    "    s.Q=Decimal(Q)\n",
    "    s.PD=PD\n",
    "    \n",
    "    Cdat=np.load('Cfits.npy')\n",
    "\n",
    "    diffs_lin=[];diffs_Gp=[];\n",
    "    diffs=[];\n",
    "    for d in range(6):\n",
    "        \n",
    "        LG=Cdat[d][0];\n",
    "        LGp=Cdat[d][1];\n",
    "        LGfit=Single_Lorentz(LG[0],LG[1],LG[2],W); \n",
    "        LGpfit=Single_Lorentz(LGp[0],LGp[1],LGp[2],W);\n",
    "        Lf=(LGfit+LGpfit)\n",
    " \n",
    "        dfGp=np.average(np.absolute(100*(PGp-LGp)/LGp))\n",
    "        dfG=np.average(np.absolute(100*(PG-LG)/LG))\n",
    "        df=np.average([dfGp,dfG])\n",
    "        diffs.append(df)\n",
    "    \n",
    "    s.diffs=diffs\n",
    "    md=np.min(diffs)\n",
    "    mdi=np.argmin(diffs)\n",
    "\n",
    "    mG=Cdat[mdi][0];mGp=Cdat[mdi][1];\n",
    "    mGfit=Single_Lorentz(mG[0],mG[1],mG[2],W);\n",
    "    mGpfit=Single_Lorentz(mGp[0],mGp[1],mGp[2],W);\n",
    "    mf=mGfit+mGpfit;mf=mf#[0]\n",
    "    s.mf=mf\n",
    "    s.md=md\n",
    "    s.mdi=mdi\n",
    "    return s"
   ]
  },
  {
   "cell_type": "code",
   "execution_count": 13,
   "metadata": {
    "extensions": {
     "jupyter_dashboards": {
      "version": 1,
      "views": {
       "grid_default": {
        "hidden": true
       },
       "report_default": {
        "hidden": true
       }
      }
     }
    }
   },
   "outputs": [],
   "source": [
    "def Single_Lorentz(a,w,b,x):\n",
    "    return a*(((w/2)**2)/(((x-b)**2)+((w/2)**2)))"
   ]
  },
  {
   "cell_type": "code",
   "execution_count": 14,
   "metadata": {
    "extensions": {
     "jupyter_dashboards": {
      "version": 1,
      "views": {
       "grid_default": {
        "col": 0,
        "height": 4,
        "hidden": true,
        "row": 0,
        "width": 12
       },
       "report_default": {}
      }
     }
    }
   },
   "outputs": [],
   "source": [
    "def dtplot(s):\n",
    "        with datplot:\n",
    "            clear_output()\n",
    "            plt.plot(s.W,s.I,'b',s.W,s.If+s.IDfit,'r',s.W,s.mf,'g')\n",
    "            plt.xlabel('$\\omega$ $[cm^{-1}]$')\n",
    "            plt.ylabel('$I_{norm}$ [arb]')\n",
    "            plt.legend(labels=['Raw','Fit','Test'])\n",
    "            plt.annotate('Q=%1.2f' %round(s.Q,2) ,xy=(np.min(s.W),0.98))\n",
    "            plt.annotate('D',xy=(0.85*s.PD[2],1.1*s.PD[0]))\n",
    "            plt.annotate('G',xy=(0.9*s.PG[2],0.95*s.PG[0]))\n",
    "            plt.annotate('G\\'',xy=(0.94*s.PGp[2],0.95*s.PGp[0]))\n",
    "            plt.show()"
   ]
  },
  {
   "cell_type": "code",
   "execution_count": 15,
   "metadata": {
    "extensions": {
     "jupyter_dashboards": {
      "version": 1,
      "views": {
       "grid_default": {
        "hidden": true
       },
       "report_default": {}
      }
     }
    }
   },
   "outputs": [],
   "source": [
    "def dfplot(s):\n",
    "        with diffsplot:\n",
    "            clear_output()\n",
    "            plt.plot(s.W,s.I,'b',s.W,s.If+s.IDfit,'r',s.W,s.mf,'g')\n",
    "            plt.xlabel('$\\omega$ $[cm^{-1}]$')\n",
    "            plt.ylabel('$I_{norm}$ [arb]')\n",
    "            plt.legend(labels=['Raw','Fit','Test'])\n",
    "            plt.annotate('Q=%1.2f' %round(s.Q,2) ,xy=(np.min(s.W),0.98))\n",
    "            plt.annotate('D',xy=(0.85*s.PD[2],1.1*s.PD[0]))\n",
    "            plt.annotate('G',xy=(0.9*s.PG[2],0.95*s.PG[0]))\n",
    "            plt.annotate('G\\'',xy=(0.94*s.PGp[2],0.95*s.PGp[0]))\n",
    "            plt.show()"
   ]
  },
  {
   "cell_type": "code",
   "execution_count": 16,
   "metadata": {
    "extensions": {
     "jupyter_dashboards": {
      "version": 1,
      "views": {
       "grid_default": {
        "col": 0,
        "height": 9,
        "hidden": false,
        "row": 4,
        "width": 4
       },
       "report_default": {}
      }
     }
    }
   },
   "outputs": [
    {
     "data": {
      "application/vnd.jupyter.widget-view+json": {
       "model_id": "be36136f7e754eb6b5136f83dae4850a",
       "version_major": 2,
       "version_minor": 0
      },
      "text/html": [
       "<p>Failed to display Jupyter Widget of type <code>Output</code>.</p>\n",
       "<p>\n",
       "  If you're reading this message in the Jupyter Notebook or JupyterLab Notebook, it may mean\n",
       "  that the widgets JavaScript is still loading. If this message persists, it\n",
       "  likely means that the widgets JavaScript library is either not installed or\n",
       "  not enabled. See the <a href=\"https://ipywidgets.readthedocs.io/en/stable/user_install.html\">Jupyter\n",
       "  Widgets Documentation</a> for setup instructions.\n",
       "</p>\n",
       "<p>\n",
       "  If you're reading this message in another frontend (for example, a static\n",
       "  rendering on GitHub or <a href=\"https://nbviewer.jupyter.org/\">NBViewer</a>),\n",
       "  it may mean that your frontend doesn't currently support widgets.\n",
       "</p>\n"
      ],
      "text/plain": [
       "Output()"
      ]
     },
     "metadata": {},
     "output_type": "display_data"
    }
   ],
   "source": [
    "datplot=widgets.Output();datplot"
   ]
  },
  {
   "cell_type": "code",
   "execution_count": 17,
   "metadata": {
    "extensions": {
     "jupyter_dashboards": {
      "version": 1,
      "views": {
       "grid_default": {
        "col": 4,
        "height": 9,
        "hidden": false,
        "row": 4,
        "width": 4
       },
       "report_default": {}
      }
     }
    }
   },
   "outputs": [
    {
     "data": {
      "application/vnd.jupyter.widget-view+json": {
       "model_id": "cd8a589dac2148a5a24e7b8a603af36f",
       "version_major": 2,
       "version_minor": 0
      },
      "text/html": [
       "<p>Failed to display Jupyter Widget of type <code>Output</code>.</p>\n",
       "<p>\n",
       "  If you're reading this message in the Jupyter Notebook or JupyterLab Notebook, it may mean\n",
       "  that the widgets JavaScript is still loading. If this message persists, it\n",
       "  likely means that the widgets JavaScript library is either not installed or\n",
       "  not enabled. See the <a href=\"https://ipywidgets.readthedocs.io/en/stable/user_install.html\">Jupyter\n",
       "  Widgets Documentation</a> for setup instructions.\n",
       "</p>\n",
       "<p>\n",
       "  If you're reading this message in another frontend (for example, a static\n",
       "  rendering on GitHub or <a href=\"https://nbviewer.jupyter.org/\">NBViewer</a>),\n",
       "  it may mean that your frontend doesn't currently support widgets.\n",
       "</p>\n"
      ],
      "text/plain": [
       "Output()"
      ]
     },
     "metadata": {},
     "output_type": "display_data"
    }
   ],
   "source": [
    "diffsplot=widgets.Output();diffsplot"
   ]
  },
  {
   "cell_type": "code",
   "execution_count": 18,
   "metadata": {
    "extensions": {
     "jupyter_dashboards": {
      "version": 1,
      "views": {
       "grid_default": {
        "col": 0,
        "height": 2,
        "hidden": false,
        "row": 13,
        "width": 8
       },
       "report_default": {}
      }
     }
    }
   },
   "outputs": [
    {
     "data": {
      "application/vnd.jupyter.widget-view+json": {
       "model_id": "7ec2edcff0f148688fbfd0f2120fc59e",
       "version_major": 2,
       "version_minor": 0
      },
      "text/html": [
       "<p>Failed to display Jupyter Widget of type <code>Output</code>.</p>\n",
       "<p>\n",
       "  If you're reading this message in the Jupyter Notebook or JupyterLab Notebook, it may mean\n",
       "  that the widgets JavaScript is still loading. If this message persists, it\n",
       "  likely means that the widgets JavaScript library is either not installed or\n",
       "  not enabled. See the <a href=\"https://ipywidgets.readthedocs.io/en/stable/user_install.html\">Jupyter\n",
       "  Widgets Documentation</a> for setup instructions.\n",
       "</p>\n",
       "<p>\n",
       "  If you're reading this message in another frontend (for example, a static\n",
       "  rendering on GitHub or <a href=\"https://nbviewer.jupyter.org/\">NBViewer</a>),\n",
       "  it may mean that your frontend doesn't currently support widgets.\n",
       "</p>\n"
      ],
      "text/plain": [
       "Output()"
      ]
     },
     "metadata": {},
     "output_type": "display_data"
    }
   ],
   "source": [
    "errout=widgets.Output();errout"
   ]
  },
  {
   "cell_type": "code",
   "execution_count": 19,
   "metadata": {
    "extensions": {
     "jupyter_dashboards": {
      "version": 1,
      "views": {
       "grid_default": {
        "col": 8,
        "height": 8,
        "hidden": false,
        "row": 0,
        "width": 4
       },
       "report_default": {}
      }
     }
    }
   },
   "outputs": [
    {
     "data": {
      "application/vnd.jupyter.widget-view+json": {
       "model_id": "3f505af15eae49de837c063b03ded168",
       "version_major": 2,
       "version_minor": 0
      },
      "text/html": [
       "<p>Failed to display Jupyter Widget of type <code>Output</code>.</p>\n",
       "<p>\n",
       "  If you're reading this message in the Jupyter Notebook or JupyterLab Notebook, it may mean\n",
       "  that the widgets JavaScript is still loading. If this message persists, it\n",
       "  likely means that the widgets JavaScript library is either not installed or\n",
       "  not enabled. See the <a href=\"https://ipywidgets.readthedocs.io/en/stable/user_install.html\">Jupyter\n",
       "  Widgets Documentation</a> for setup instructions.\n",
       "</p>\n",
       "<p>\n",
       "  If you're reading this message in another frontend (for example, a static\n",
       "  rendering on GitHub or <a href=\"https://nbviewer.jupyter.org/\">NBViewer</a>),\n",
       "  it may mean that your frontend doesn't currently support widgets.\n",
       "</p>\n"
      ],
      "text/plain": [
       "Output()"
      ]
     },
     "metadata": {},
     "output_type": "display_data"
    }
   ],
   "source": [
    "plist=widgets.Output();plist"
   ]
  },
  {
   "cell_type": "code",
   "execution_count": 20,
   "metadata": {
    "extensions": {
     "jupyter_dashboards": {
      "version": 1,
      "views": {
       "grid_default": {
        "col": 0,
        "height": 2,
        "hidden": false,
        "row": 2,
        "width": 6
       },
       "report_default": {}
      }
     }
    }
   },
   "outputs": [
    {
     "data": {
      "application/vnd.jupyter.widget-view+json": {
       "model_id": "21945c1229af45a6b726beb7101e4d8d",
       "version_major": 2,
       "version_minor": 0
      },
      "text/html": [
       "<p>Failed to display Jupyter Widget of type <code>Dropdown</code>.</p>\n",
       "<p>\n",
       "  If you're reading this message in the Jupyter Notebook or JupyterLab Notebook, it may mean\n",
       "  that the widgets JavaScript is still loading. If this message persists, it\n",
       "  likely means that the widgets JavaScript library is either not installed or\n",
       "  not enabled. See the <a href=\"https://ipywidgets.readthedocs.io/en/stable/user_install.html\">Jupyter\n",
       "  Widgets Documentation</a> for setup instructions.\n",
       "</p>\n",
       "<p>\n",
       "  If you're reading this message in another frontend (for example, a static\n",
       "  rendering on GitHub or <a href=\"https://nbviewer.jupyter.org/\">NBViewer</a>),\n",
       "  it may mean that your frontend doesn't currently support widgets.\n",
       "</p>\n"
      ],
      "text/plain": [
       "Dropdown(description='Parameter', disabled=True, options={'Select': '', 'I_G': 1, 'Γ_G': 2, 'ω_G': 3, \"I_G'\": 4, \"Γ_G'\": 5, \"ω_G'\": 6, 'I_D': 7, 'Γ_D': 8, 'ω_D': 9}, value='')"
      ]
     },
     "metadata": {},
     "output_type": "display_data"
    }
   ],
   "source": [
    "o=GL('GREEK SMALL LETTER OMEGA')\n",
    "G=GL('GREEK CAPITAL LETTER GAMMA')\n",
    "\n",
    "def param_change(change):\n",
    "    d={1: 'PG',2: 'PG',3: 'PG',4: 'PGp',5: 'PGp',6: 'PGp',7: 'PD',8: 'PD',9: 'PD'}\n",
    "    if param.value in [1,4,7]:\n",
    "        ind=0\n",
    "    elif param.value in [2,5,8]:\n",
    "        ind=1\n",
    "    elif param.value in [3,6,9]:\n",
    "        ind=2\n",
    "    else:\n",
    "        ind=0\n",
    " \n",
    "    if param.value in [1,2,3]:\n",
    "        z=np.transpose(np.array([o.PG for o in Specs]))[ind]\n",
    "    elif param.value in [4,5,6]:\n",
    "        z=np.transpose(np.array([o.PGp for o in Specs]))[ind]\n",
    "    elif param.value in [7,8,9]:\n",
    "        z=np.transpose(np.array([o.PD for o in Specs]))[ind]\n",
    "    else:\n",
    "        z=np.transpose(np.array([o.PG for o in Specs]))[2]\n",
    "\n",
    "    xvals=np.transpose(np.array([o.x for o in Specs]))\n",
    "    yvals=np.transpose(np.array([o.y for o in Specs]))\n",
    "    Mplot(xvals,yvals,z)\n",
    "\n",
    "param=widgets.Dropdown(description='Parameter')\n",
    "param.options=options={'Select': '', 'I_G': 1, (G+'_G'): 2, (o+'_G'): 3, 'I_G\\'': 4, (G+'_G\\''): 5, (o+'_G\\''): 6, 'I_D': 7, (G+'_D'): 8, (o+'_D'): 9}\n",
    "param.observe(param_change,names='value')\n",
    "param.disabled=True\n",
    "param"
   ]
  },
  {
   "cell_type": "code",
   "execution_count": 21,
   "metadata": {
    "extensions": {
     "jupyter_dashboards": {
      "version": 1,
      "views": {
       "grid_default": {
        "col": 0,
        "height": 4,
        "hidden": true,
        "row": 0,
        "width": 12
       },
       "report_default": {}
      }
     }
    }
   },
   "outputs": [],
   "source": [
    "class pickPeaks:\n",
    "    def __init__(self, line):\n",
    "        self.line = line\n",
    "        self.xs = line.get_xdata()\n",
    "        self.ys = line.get_ydata()\n",
    "        self.cid = line.figure.canvas.mpl_connect('button_press_event', self)\n",
    "\n",
    "    def __call__(self, event):\n",
    "        print('click', event)\n",
    "        if event.inaxes!=self.line.axes: return\n",
    "        self.xs=event.xdata\n",
    "        self.ys=event.ydata\n",
    "        with datplot:\n",
    "            plt.show()\n",
    "        Map_Spec_Plot()"
   ]
  },
  {
   "cell_type": "code",
   "execution_count": 22,
   "metadata": {
    "extensions": {
     "jupyter_dashboards": {
      "version": 1,
      "views": {
       "grid_default": {
        "col": 0,
        "height": 4,
        "hidden": true,
        "row": 0,
        "width": 12
       },
       "report_default": {}
      }
     }
    }
   },
   "outputs": [],
   "source": [
    "def Map_Spec_Plot():\n",
    "    from scipy.spatial import cKDTree\n",
    "    xvals=np.transpose(np.array([o.x for o in Specs]))\n",
    "    yvals=np.transpose(np.array([o.y for o in Specs]))\n",
    "    XY=np.zeros((len(Specs),2))\n",
    "    XY[:,0]=xvals\n",
    "    XY[:,1]=yvals\n",
    "    tree = cKDTree(XY)\n",
    "    dis, ind = tree.query([point.xs,point.ys], k=1)\n",
    "    print(ind)\n",
    "    #dfplot(Specs[ind])"
   ]
  },
  {
   "cell_type": "code",
   "execution_count": null,
   "metadata": {},
   "outputs": [],
   "source": []
  }
 ],
 "metadata": {
  "extensions": {
   "jupyter_dashboards": {
    "activeView": "grid_default",
    "version": 1,
    "views": {
     "grid_default": {
      "cellMargin": 10,
      "defaultCellHeight": 20,
      "maxColumns": 12,
      "name": "grid",
      "type": "grid"
     },
     "report_default": {
      "name": "report",
      "type": "report"
     }
    }
   }
  },
  "kernelspec": {
   "display_name": "Python3",
   "language": "python",
   "name": "python3"
  },
  "language_info": {
   "codemirror_mode": {
    "name": "ipython",
    "version": 3
   },
   "file_extension": ".py",
   "mimetype": "text/x-python",
   "name": "python",
   "nbconvert_exporter": "python",
   "pygments_lexer": "ipython3",
   "version": "3.6.2"
  }
 },
 "nbformat": 4,
 "nbformat_minor": 2
}
