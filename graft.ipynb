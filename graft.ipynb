{
 "cells": [
  {
   "cell_type": "code",
   "execution_count": 2,
   "metadata": {
    "extensions": {
     "jupyter_dashboards": {
      "version": 1,
      "views": {
       "grid_default": {
        "col": 0,
        "height": 4,
        "hidden": true,
        "row": 0,
        "width": 12
       },
       "report_default": {}
      }
     }
    }
   },
   "outputs": [],
   "source": [
    "import hublib\n",
    "import pandas as pd\n",
    "import ipywidgets as widgets\n",
    "from IPython.display import clear_output\n",
    "import matplotlib\n",
    "%matplotlib notebook\n",
    "import matplotlib.pyplot as plt\n",
    "import scipy\n",
    "import numpy as np\n",
    "from decimal import Decimal\n",
    "import unicodedata\n",
    "from unicodedata import lookup as GL\n",
    "import sympy as sy\n",
    "from joblib import Parallel, delayed\n",
    "from lmfit import Model\n",
    "import warnings\n",
    "import zipfile\n",
    "from zipfile import ZipFile\n",
    "import os\n",
    "#from hublib.io import FileUpload, Download"
   ]
  },
  {
   "cell_type": "code",
   "execution_count": null,
   "metadata": {
    "extensions": {
     "jupyter_dashboards": {
      "version": 1,
      "views": {
       "grid_default": {
        "col": 0,
        "height": 4,
        "hidden": true,
        "row": 0,
        "width": 12
       },
       "report_default": {}
      }
     }
    }
   },
   "outputs": [],
   "source": [
    "class Spectrum:\n",
    "    def __init__(self):\n",
    "        self.x=0\n",
    "        self.y=0\n",
    "        self.I=[]\n",
    "        self.W=[]\n",
    "        self.If=[]\n",
    "        self.PG=[]\n",
    "        self.PGp=[]\n",
    "        self.PD=[]\n",
    "        self.IDfit=[]\n",
    "        self.Q=0\n",
    "        self.diffs=[]\n",
    "        self.mdi=0\n",
    "        self.md=0\n",
    "        self.mf=[]"
   ]
  },
  {
   "cell_type": "code",
   "execution_count": null,
   "metadata": {
    "extensions": {
     "jupyter_dashboards": {
      "version": 1,
      "views": {
       "grid_default": {
        "hidden": true
       },
       "report_default": {}
      }
     }
    }
   },
   "outputs": [],
   "source": [
    "global Specs\n",
    "Specs=[]\n",
    "\n",
    "global filelist\n",
    "filelist = []\n",
    "\n",
    "global cfl"
   ]
  },
  {
   "cell_type": "code",
   "execution_count": null,
   "metadata": {
    "extensions": {
     "jupyter_dashboards": {
      "version": 1,
      "views": {
       "grid_default": {
        "col": 0,
        "height": 2,
        "hidden": false,
        "row": 0,
        "width": 6
       },
       "report_default": {}
      }
     }
    }
   },
   "outputs": [],
   "source": [
    "def mycb(w,fnames):\n",
    "    global fnm\n",
    "    fnm=fnames[0]\n",
    "    fbase = os.path.basename(fnm)\n",
    "    os.makedirs('data/' + os.path.splitext(fbase)[0])\n",
    "    filelist.append(fbase)\n",
    "    os.rename(fnm, 'data/raw/' + fbase)\n",
    "    w.reset()\n",
    "\n",
    "f = FileUpload(\"Please upload Raman spectra data file (CSV)\", \n",
    "               \"Raman data files should be uploaded as 2 column CSV files\",\n",
    "               cb=mycb,\n",
    "               maxsize=10000000)\n",
    "f"
   ]
  },
  {
   "cell_type": "code",
   "execution_count": null,
   "metadata": {
    "extensions": {
     "jupyter_dashboards": {
      "version": 1,
      "views": {
       "grid_default": {
        "col": 0,
        "height": 4,
        "hidden": true,
        "row": 0,
        "width": 12
       },
       "report_default": {}
      }
     }
    }
   },
   "outputs": [],
   "source": [
    "def errprint(code):\n",
    "    errfile=pd.read_csv('errfile.txt',sep='\\t',header=None)\n",
    "    with errout:\n",
    "        clear_output()\n",
    "        print(errfile[0][code])\n",
    "        fit_but.disabled=False\n",
    "        errout"
   ]
  },
  {
   "cell_type": "code",
   "execution_count": null,
   "metadata": {
    "extensions": {
     "jupyter_dashboards": {
      "version": 1,
      "views": {
       "grid_default": {
        "col": 0,
        "height": 4,
        "hidden": true,
        "row": 0,
        "width": 12
       },
       "report_default": {}
      }
     }
    }
   },
   "outputs": [],
   "source": [
    "def case_lookup(index):\n",
    "    casefile=pd.read_csv('Case_List.txt',sep='\\t',header=None)\n",
    "    c=casefile[0][index]\n",
    "    return c"
   ]
  },
  {
   "cell_type": "code",
   "execution_count": null,
   "metadata": {
    "extensions": {
     "jupyter_dashboards": {
      "version": 1,
      "views": {
       "grid_default": {
        "col": 6,
        "height": 2,
        "hidden": false,
        "row": 0,
        "width": 2
       },
       "report_default": {}
      }
     }
    }
   },
   "outputs": [],
   "source": [
    "fit_but = widgets.Button(description='Do Fitting')\n",
    "    \n",
    "def fit_but_cb(change):\n",
    "    global cfl\n",
    "    fit_but.disabled=True\n",
    "    param.disabled=True\n",
    "    with plist:\n",
    "        clear_output()\n",
    "        print('Reading data files...')\n",
    "    with errout:\n",
    "        clear_output()\n",
    "    with diffsplot:\n",
    "        clear_output()\n",
    "    with datplot:\n",
    "        clear_output()\n",
    "    \n",
    "    for flnm in filelist:\n",
    "        cfl = flnm\n",
    "        if flnm[-3:]=='txt':\n",
    "            sp='\\s+'\n",
    "        elif flnm[-3:]=='csv':\n",
    "            sp=','\n",
    "        else:\n",
    "            errprint(0)\n",
    "            return\n",
    "        try:\n",
    "            data = pd.read_csv('data/raw/' + flnm,sep=sp,header=None)\n",
    "        except:\n",
    "            sp='\\t'\n",
    "            data = pd.read_csv('data/raw/' + flnm,sep=sp,header=None)\n",
    "        with plist:\n",
    "            clear_output()\n",
    "            print('Data file read')\n",
    "\n",
    "        n=int(data.size/len(data)) #n determines the size of the data file\n",
    "\n",
    "        global Specs\n",
    "        Specs.clear()\n",
    "\n",
    "        ##Single Spectra Data File, n=2    \n",
    "        if n==2:\n",
    "            with plist:\n",
    "                clear_output()\n",
    "                print('Fitting single spectra data.')\n",
    "\n",
    "            s=Spectrum()\n",
    "            Spectra(s,data)\n",
    "            Fit(s)\n",
    "\n",
    "            dtplot(s)\n",
    "\n",
    "            with diffsplot:\n",
    "                clear_output()\n",
    "                fig=plt.figure(figsize=(4,4))\n",
    "                ax=fig.add_subplot(111)\n",
    "                plt.plot(s.diffs,'kv')\n",
    "                plt.plot(s.mdi,s.md,'gv')\n",
    "                plt.annotate((round(Decimal(s.md),2)),xy=(s.mdi,1.2*s.md))\n",
    "                plt.xticks(range(6),('1','2','3','4','5','Graphite'))\n",
    "                plt.xlabel('# Layers')\n",
    "                plt.ylabel('$\\Delta$ [%]')\n",
    "                plt.show()\n",
    "\n",
    "            save_spec(s)\n",
    "            zip_files('data')\n",
    "            params_print(s)\n",
    "\n",
    "        #Map files will be much larger than 2 points and need separate handling\n",
    "        elif n > 2:\n",
    "            Specs=[]\n",
    "            Map(data)\n",
    "        else:\n",
    "            errprint(1)\n",
    "            return\n",
    "    fit_but.disabled=False\n",
    "\n",
    "fit_but.on_click(fit_but_cb)\n",
    "fit_but"
   ]
  },
  {
   "cell_type": "code",
   "execution_count": null,
   "metadata": {
    "extensions": {
     "jupyter_dashboards": {
      "version": 1,
      "views": {
       "grid_default": {
        "col": 0,
        "height": 4,
        "hidden": true,
        "row": 0,
        "width": 12
       },
       "report_default": {}
      }
     }
    }
   },
   "outputs": [],
   "source": [
    "def Map(data): \n",
    "    W=data[:][0:1]\n",
    "    W=np.array(W)\n",
    "    W=W[~np.isnan(W)]\n",
    "    \n",
    "    x=data[0]\n",
    "    x=np.array(x)\n",
    "    x=x[~np.isnan(x)]\n",
    "    xu=np.unique(x)\n",
    "    \n",
    "    y=data[1]\n",
    "    y=np.array(y)\n",
    "    y=y[~np.isnan(y)]\n",
    "    yu=np.unique(y)\n",
    "    \n",
    "    n=yu.size*xu.size\n",
    "    \n",
    "    s=Spectrum()\n",
    "    \n",
    "    Parallel(n_jobs=1)(delayed(maploop)(s,Specs,data,W,x,y,n,k) for k in range(n))\n",
    "    \n",
    "    wG=np.transpose(np.array([o.PG for o in Specs]))[2]      \n",
    "    \n",
    "    Mplot(x,y,wG,'$\\omega_G$ $[cm^{-1}]$','wG')\n",
    "    Hplot(wG,'$\\omega_G$ $[cm^{-1}]$','wG')\n",
    "    \n",
    "    with plist:\n",
    "        clear_output()\n",
    "        print('Fitting Finished')\n",
    "    save_map(Specs)\n",
    "    zip_files('data')\n",
    "    with plist:\n",
    "        clear_output()\n",
    "    param.disabled=False"
   ]
  },
  {
   "cell_type": "code",
   "execution_count": null,
   "metadata": {
    "extensions": {
     "jupyter_dashboards": {
      "version": 1,
      "views": {
       "grid_default": {
        "hidden": true
       },
       "report_default": {}
      }
     }
    }
   },
   "outputs": [],
   "source": [
    "def maploop(s,Specs,data,W,x,y,n,k):\n",
    "    s=Spectrum()\n",
    "        \n",
    "    I_raw=np.array(data)[k+1][2:1026]\n",
    "    tmp_min = np.min(I_raw)\n",
    "    I_tmp = I_raw-tmp_min\n",
    "    tmp_max = np.max(I_tmp)\n",
    "    I=I_tmp/tmp_max\n",
    "    #I=((I_raw-np.min(I_raw))/np.max(I_raw-np.min(I_raw)))\n",
    "    s.I=I\n",
    "    s.W=W\n",
    "    s.x=x[k]\n",
    "    s.y=y[k]\n",
    "    Fit(s)\n",
    "    Specs.append(s)\n",
    "\n",
    "    pdone=100*(k+1)/n\n",
    "\n",
    "    with plist:\n",
    "        clear_output()\n",
    "        print('Fitting map data. This may take some time...\\n%1.2f%% Done'%(pdone))\n",
    "\n",
    "    return Specs"
   ]
  },
  {
   "cell_type": "code",
   "execution_count": null,
   "metadata": {
    "extensions": {
     "jupyter_dashboards": {
      "version": 1,
      "views": {
       "grid_default": {
        "col": 0,
        "height": 4,
        "hidden": true,
        "row": 0,
        "width": 12
       },
       "report_default": {
        "hidden": true
       }
      }
     }
    }
   },
   "outputs": [],
   "source": [
    "def Spectra(s,data):\n",
    "    srow=0;\n",
    "    if type(data[0][0])==str:\n",
    "        srow=1\n",
    "    \n",
    "    W=data[0][srow:len(data)]\n",
    "    W=np.array(W);W=W.astype(float)\n",
    "    I_raw=data[1][srow:len(data)]\n",
    "    I_raw=np.array(I_raw);I_raw=I_raw.astype(float)\n",
    "\n",
    "#background fitting could be done, but it sometimes messes up some spectra\n",
    "#in general, the hope is that the specra will not need it\n",
    "    \n",
    "    polyx=np.array([W[0],W[int(len(W)/2)],W[len(W)-1]])\n",
    "    polyy=np.array([I_raw[0],I_raw[int(len(W)/2)],I_raw[len(W)-1]])        \n",
    "    bkgfit=np.polyfit(polyx,polyy,2)\n",
    "    bkgpoly=(bkgfit[0]*W**2)+(bkgfit[1]*W)+bkgfit[2]\n",
    "    I_raw=I_raw-bkgpoly\n",
    "    \n",
    "    m=(I_raw[len(W)-1]-I_raw[0])/(W[len(W)-1]-W[0])\n",
    "    b=I_raw[len(W)-1]-m*W[len(W)-1]\n",
    "    bkglin=m*W+b\n",
    "    \n",
    "    I_raw=I_raw-bkglin\n",
    "    \n",
    "    I=((I_raw-np.min(I_raw))/np.max(I_raw-np.min(I_raw)));\n",
    "    \n",
    "    \n",
    "    s.I=I\n",
    "    s.W=W\n",
    "    return s"
   ]
  },
  {
   "cell_type": "code",
   "execution_count": null,
   "metadata": {
    "extensions": {
     "jupyter_dashboards": {
      "version": 1,
      "views": {
       "grid_default": {
        "col": 0,
        "height": 4,
        "hidden": true,
        "row": 0,
        "width": 12
       },
       "report_default": {}
      }
     }
    }
   },
   "outputs": [],
   "source": [
    "def Fit(s):\n",
    "    W=s.W\n",
    "    I=s.I\n",
    "    pG=[1.1*np.max(I), 50, 1581.6] #a w b\n",
    "    pGp=[1.1*np.max(I), 50, 2675]\n",
    "\n",
    "    L.set_bounds([1.5*np.max(I),60,2000],[0.3*np.max(I),33,1400])\n",
    "    PGm=L.fit(s.W,s.I,pG)\n",
    "    \n",
    "    L.set_bounds([1.5*np.max(I),60,3000],[0.3*np.max(I),32,2000])\n",
    "    PGpm=L.fit(s.W,s.I,pGp)\n",
    "    \n",
    "    PG=np.array(list(PGm.best_values.values()))\n",
    "    PGp=np.array(list(PGpm.best_values.values()))\n",
    "    \n",
    "    PG[1]=np.absolute(PG[1]);PGp[1]=np.absolute(PGp[1]); #FWHM sometimes returns - bc always squared\n",
    "    \n",
    "    IGfit=Single_Lorentz(W,PG[0],PG[1],PG[2]);\n",
    "    IGpfit=Single_Lorentz(W,PGp[0],PGp[1],PGp[2]);\n",
    "    IGfit=IGfit\n",
    "    IGpfit=IGpfit\n",
    "    s.If=IGfit+IGpfit;\n",
    "    \n",
    "    s.PG=PG\n",
    "    s.PGp=PGp\n",
    "    \n",
    "    pD=[0.1*np.max(I),5,1350]\n",
    "\n",
    "    L.set_bounds([np.max(I),50,1400],[0,10,1300])\n",
    "    PDm=L.fit(s.W,s.I,pD)\n",
    "    PD=np.array(list(PDm.best_values.values()))\n",
    "    PD[1]=np.absolute(PD[1]);\n",
    "    IDfit=Single_Lorentz(W,PD[0],PD[1],PD[2]);\n",
    "    s.IDfit=IDfit\n",
    "    Q=1-(PD[0]/PG[0])\n",
    "    s.Q=Decimal(Q)\n",
    "    s.PD=PD\n",
    "    \n",
    "    Cdat=np.load('Cfits.npy')\n",
    "\n",
    "    diffs_lin=[];diffs_Gp=[];\n",
    "    diffs=[];diffs.clear()\n",
    "    for d in range(6):\n",
    "        \n",
    "        LG=Cdat[d][0];LG=np.transpose(LG)[0]\n",
    "        LGp=Cdat[d][1];LGp=np.transpose(LGp)[0]\n",
    "        LGfit=Single_Lorentz(W,LG[0],LG[1],LG[2]); \n",
    "        LGpfit=Single_Lorentz(W,LGp[0],LGp[1],LGp[2]);\n",
    "        Lf=(LGfit+LGpfit)\n",
    " \n",
    "        wts=[1.,1.,0.5]\n",
    "        \n",
    "        dfGp=np.average(np.absolute(100*(PGp-LGp)/LGp),weights=wts)\n",
    "        dfG=np.average(np.absolute(100*(PG-LG)/LG),weights=wts)\n",
    "        drat=np.absolute(100*(((PG[0]/PGp[0])-(LG[0]/LGp[0]))/(LG[0]/LGp[0])))\n",
    "        df=np.average([dfGp,dfG,drat],weights=[0.5,0.5,1])\n",
    "        diffs.append(df)\n",
    "    \n",
    "    s.diffs=diffs\n",
    "    md=np.min(diffs)\n",
    "    mdi=np.argmin(diffs)\n",
    "\n",
    "    mG=Cdat[mdi][0];mGp=Cdat[mdi][1];\n",
    "    mGfit=Single_Lorentz(W,mG[0],mG[1],mG[2]);\n",
    "    mGpfit=Single_Lorentz(W,mGp[0],mGp[1],mGp[2]);\n",
    "    mf=mGfit+mGpfit\n",
    "    s.mf=mf\n",
    "    s.md=md\n",
    "    s.mdi=mdi\n",
    "    return s"
   ]
  },
  {
   "cell_type": "code",
   "execution_count": null,
   "metadata": {
    "extensions": {
     "jupyter_dashboards": {
      "version": 1,
      "views": {
       "grid_default": {
        "hidden": true
       },
       "report_default": {
        "hidden": true
       }
      }
     }
    }
   },
   "outputs": [],
   "source": [
    "def Single_Lorentz(x,a,w,b):\n",
    "    return a*(((w/2)**2)/(((x-b)**2)+((w/2)**2)))"
   ]
  },
  {
   "cell_type": "code",
   "execution_count": null,
   "metadata": {
    "extensions": {
     "jupyter_dashboards": {
      "version": 1,
      "views": {
       "grid_default": {
        "col": 0,
        "height": 4,
        "hidden": true,
        "row": 0,
        "width": 12
       },
       "report_default": {}
      }
     }
    }
   },
   "outputs": [],
   "source": [
    "def dtplot(s):\n",
    "        with datplot:\n",
    "            clear_output()\n",
    "            fig1=plt.figure(figsize=(4,4))\n",
    "            ax=fig1.add_subplot(111)\n",
    "            plt.plot(s.W,s.I,'b',s.W,s.mf,'g',s.W,s.If+s.IDfit,'r')\n",
    "            plt.xlabel('$\\omega$ $[cm^{-1}]$')\n",
    "            plt.ylabel('$I_{norm}$ [arb]')\n",
    "            plt.legend(labels=['Raw','Test','Fit'])\n",
    "            plt.annotate('Q=%1.2f' %round(s.Q,2) ,xy=(np.min(s.W),0.98))\n",
    "            plt.annotate('D',xy=(0.85*s.PD[2],1.1*s.PD[0]))\n",
    "            plt.annotate('G',xy=(0.9*s.PG[2],0.95*s.PG[0]))\n",
    "            plt.annotate('G\\'',xy=(0.94*s.PGp[2],0.95*s.PGp[0]))\n",
    "            plt.show()\n",
    "            plt.savefig('data/'+cfl[:-4]+'/specs.png')"
   ]
  },
  {
   "cell_type": "code",
   "execution_count": null,
   "metadata": {
    "extensions": {
     "jupyter_dashboards": {
      "version": 1,
      "views": {
       "grid_default": {
        "hidden": true
       },
       "report_default": {}
      }
     }
    }
   },
   "outputs": [],
   "source": [
    "def dfplot(s):\n",
    "    with diffsplot:\n",
    "        clear_output()\n",
    "        fig=plt.figure(figsize=(4,4))\n",
    "        ax=fig.add_subplot(111)\n",
    "        plt.plot(s.W,s.I,'b',s.W,s.mf,'g',s.W,s.If+s.IDfit,'r')\n",
    "        plt.xlabel('$\\omega$ $[cm^{-1}]$')\n",
    "        plt.ylabel('$I_{norm}$ [arb]')\n",
    "        plt.legend(labels=['Raw','Test','Fit'])\n",
    "        plt.annotate('Q=%1.2f' %round(s.Q,2) ,xy=(np.min(s.W),0.98))\n",
    "        plt.annotate('D',xy=(0.85*s.PD[2],1.1*s.PD[0]))\n",
    "        plt.annotate('G',xy=(0.9*s.PG[2],0.95*s.PG[0]))\n",
    "        plt.annotate('G\\'',xy=(0.94*s.PGp[2],0.95*s.PGp[0]))\n",
    "        plt.show()\n",
    "    params_print(s)"
   ]
  },
  {
   "cell_type": "code",
   "execution_count": null,
   "metadata": {
    "extensions": {
     "jupyter_dashboards": {
      "version": 1,
      "views": {
       "grid_default": {
        "hidden": true
       },
       "report_default": {
        "hidden": true
       }
      }
     }
    }
   },
   "outputs": [],
   "source": [
    "def Mplot(x,y,z,d,fn):\n",
    "    global p,point,datax\n",
    "    xi = np.linspace(min(x), max(x))\n",
    "    yi = np.linspace(min(y), max(y))\n",
    "    X, Y = np.meshgrid(xi, yi)\n",
    "    \n",
    "    with datplot:\n",
    "        clear_output()\n",
    "        Z=matplotlib.mlab.griddata(x, y, z, xi, yi, interp='linear') \n",
    "        fig=plt.figure(figsize=(4,4))\n",
    "        datax=fig.add_subplot(111)\n",
    "        p,=datax.plot([],[],'o')\n",
    "        point=pickPeaks(p)\n",
    "        C=plt.contourf(X,Y,Z)\n",
    "        plt.set_cmap('inferno')\n",
    "        plt.xlabel('x [mm]')\n",
    "        plt.ylabel('y [mm]')\n",
    "        #datax.set_xlim(np.min(xi),np.max(xi))\n",
    "        #datax.set_ylim(np.min(yi),np.max(yi))\n",
    "        plt.title(d)\n",
    "        plt.colorbar(C)\n",
    "        plt.axis('off')\n",
    "        #datax.autoscale\n",
    "        plt.show()\n",
    "        figname = 'data/'+ cfl[:-4]+'/' + fn + '_map.png'\n",
    "        plt.savefig(figname)\n",
    "        mout = open('data/'+ cfl[:-4]+'/' + fn + '_dat.map','w')\n",
    "        mout.write(' '.join(str(n) for n in Z))"
   ]
  },
  {
   "cell_type": "code",
   "execution_count": null,
   "metadata": {
    "extensions": {
     "jupyter_dashboards": {
      "version": 1,
      "views": {
       "grid_default": {
        "hidden": true
       },
       "report_default": {}
      }
     }
    }
   },
   "outputs": [],
   "source": [
    "def Hplot(z,d,fn):\n",
    "    with plist:\n",
    "        clear_output()\n",
    "    with diffsplot:\n",
    "        clear_output()\n",
    "        fig=plt.figure(figsize=(4,4))\n",
    "        ax=fig.add_subplot(111)\n",
    "        plt.hist(z,bins='auto')\n",
    "        plt.ylabel('Counts')\n",
    "        plt.xlabel(d)\n",
    "        plt.show()\n",
    "        figname = 'data/'+ cfl[:-4]+'/' + fn + '_hist.png'\n",
    "        plt.savefig(figname)\n",
    "        hout = open('data/'+ cfl[:-4]+'/' + fn + '_dat.hist','w')\n",
    "        hout.write(' '.join(str(n) for n in z))"
   ]
  },
  {
   "cell_type": "code",
   "execution_count": null,
   "metadata": {
    "extensions": {
     "jupyter_dashboards": {
      "version": 1,
      "views": {
       "grid_default": {
        "hidden": true
       },
       "report_default": {}
      }
     }
    }
   },
   "outputs": [],
   "source": [
    "def params_print(s):\n",
    "    with plist:\n",
    "        clear_output()\n",
    "        G=GL('GREEK CAPITAL LETTER GAMMA')\n",
    "        o=GL('GREEK SMALL LETTER OMEGA')\n",
    "        print('G Fitting Parameters:\\n\\tA=%1.2f\\n\\t%s=%1.2f\\n\\t%s=%1.2f\\n'\n",
    "              'G\\' Fitting Parameters:\\n\\tA=%1.2f\\n\\t%s=%1.2f\\n\\t%s=%1.2f\\n'\n",
    "              'D Fitting Parameters:\\n\\tA=%1.2f\\n\\t%s=%1.2f\\n\\t%s=%1.2f\\n'\n",
    "              'Quality=%1.2f (Ratio of D to G)\\n'\n",
    "              'Best Case Match: %s'\n",
    "              %(s.PG[0],G,s.PG[1],o,s.PG[2],s.PGp[0],G,s.PGp[1],o,s.PGp[2],s.PD[0],G,s.PD[1],o,s.PD[2],s.Q,case_lookup(s.mdi)))"
   ]
  },
  {
   "cell_type": "code",
   "execution_count": null,
   "metadata": {
    "extensions": {
     "jupyter_dashboards": {
      "version": 1,
      "views": {
       "grid_default": {
        "col": 0,
        "height": 16,
        "hidden": false,
        "row": 4,
        "width": 4
       },
       "report_default": {}
      }
     }
    },
    "scrolled": false
   },
   "outputs": [],
   "source": [
    "datplot=widgets.Output();datplot"
   ]
  },
  {
   "cell_type": "code",
   "execution_count": null,
   "metadata": {
    "extensions": {
     "jupyter_dashboards": {
      "version": 1,
      "views": {
       "grid_default": {
        "col": 4,
        "height": 16,
        "hidden": false,
        "row": 4,
        "width": 4
       },
       "report_default": {}
      }
     }
    },
    "scrolled": false
   },
   "outputs": [],
   "source": [
    "diffsplot=widgets.Output();diffsplot"
   ]
  },
  {
   "cell_type": "code",
   "execution_count": null,
   "metadata": {
    "extensions": {
     "jupyter_dashboards": {
      "version": 1,
      "views": {
       "grid_default": {
        "col": 0,
        "height": 2,
        "hidden": false,
        "row": 20,
        "width": 8
       },
       "report_default": {}
      }
     }
    }
   },
   "outputs": [],
   "source": [
    "errout=widgets.Output();errout"
   ]
  },
  {
   "cell_type": "code",
   "execution_count": null,
   "metadata": {
    "extensions": {
     "jupyter_dashboards": {
      "version": 1,
      "views": {
       "grid_default": {
        "col": 9,
        "height": 8,
        "hidden": false,
        "row": 0,
        "width": 3
       },
       "report_default": {}
      }
     }
    }
   },
   "outputs": [],
   "source": [
    "plist=widgets.Output();plist"
   ]
  },
  {
   "cell_type": "code",
   "execution_count": null,
   "metadata": {
    "extensions": {
     "jupyter_dashboards": {
      "version": 1,
      "views": {
       "grid_default": {
        "col": 0,
        "height": 2,
        "hidden": false,
        "row": 2,
        "width": 6
       },
       "report_default": {}
      }
     }
    }
   },
   "outputs": [],
   "source": [
    "o=GL('GREEK SMALL LETTER OMEGA')\n",
    "G=GL('GREEK CAPITAL LETTER GAMMA')\n",
    "\n",
    "def param_change(change):\n",
    "    d = ['$I_G$ [arb]','$\\Gamma_G$ $[cm^{-1}]$','$\\omega_G$ $[cm^{-1}]$','$I_{G\\'}$ [arb]','$\\Gamma_{G\\'}$ $[cm^{-1}]$','$\\omega_{G\\'}$ $[cm^{-1}]$','$I_D$ [arb]','$\\Gamma_D$ $[cm^{-1}]$','$\\omega_D$ $[cm^{-1}]$']\n",
    "    D = ['IG','gG','wG','IGp','gGp','wGp','ID','gD','wD']\n",
    "    N = d[param.value-1]\n",
    "    n = D[param.value-1]\n",
    "    if param.value in [1,4,7]:\n",
    "        ind=0\n",
    "    elif param.value in [2,5,8]:\n",
    "        ind=1\n",
    "    elif param.value in [3,6,9]:\n",
    "        ind=2\n",
    "    else:\n",
    "        ind=0\n",
    " \n",
    "    if param.value in [1,2,3]:\n",
    "        z=np.transpose(np.array([o.PG for o in Specs]))[ind]\n",
    "    elif param.value in [4,5,6]:\n",
    "        z=np.transpose(np.array([o.PGp for o in Specs]))[ind]\n",
    "    elif param.value in [7,8,9]:\n",
    "        z=np.transpose(np.array([o.PD for o in Specs]))[ind]\n",
    "    else:\n",
    "        z=np.transpose(np.array([o.PG for o in Specs]))[2]\n",
    "        N=d[2]\n",
    "    xvals=np.transpose(np.array([o.x for o in Specs]))\n",
    "    yvals=np.transpose(np.array([o.y for o in Specs]))\n",
    "    Mplot(xvals,yvals,z,N,n)\n",
    "    Hplot(z,N,n)\n",
    "\n",
    "param=widgets.Dropdown(description='Parameter')\n",
    "param.options=options={'Select': 0, 'I_G': 1, (G+'_G'): 2, (o+'_G'): 3, 'I_G\\'': 4, (G+'_G\\''): 5, (o+'_G\\''): 6, 'I_D': 7, (G+'_D'): 8, (o+'_D'): 9}\n",
    "param.observe(param_change,names='value')\n",
    "param.disabled=True\n",
    "param"
   ]
  },
  {
   "cell_type": "code",
   "execution_count": null,
   "metadata": {
    "extensions": {
     "jupyter_dashboards": {
      "version": 1,
      "views": {
       "grid_default": {
        "col": 0,
        "height": 4,
        "hidden": true,
        "row": 0,
        "width": 12
       },
       "report_default": {}
      }
     }
    }
   },
   "outputs": [],
   "source": [
    "class pickPeaks:\n",
    "    def __init__(self, line):\n",
    "        self.line = line\n",
    "        self.xs = line.get_xdata()\n",
    "        self.ys = line.get_ydata()\n",
    "        self.cid = line.figure.canvas.mpl_connect('button_press_event', self)\n",
    "\n",
    "    def __call__(self, event):\n",
    "        print('click', event)\n",
    "        if event.inaxes!=self.line.axes: return\n",
    "        self.xs=event.xdata\n",
    "        self.ys=event.ydata\n",
    "        \n",
    "        Map_Spec_Plot()\n",
    "        self.points.set_data(self.xs, self.ys)\n",
    "        \n",
    "    def __iter__(self):\n",
    "        return zip(self.xs, self.ys)"
   ]
  },
  {
   "cell_type": "code",
   "execution_count": null,
   "metadata": {
    "extensions": {
     "jupyter_dashboards": {
      "version": 1,
      "views": {
       "grid_default": {
        "col": 0,
        "height": 4,
        "hidden": true,
        "row": 0,
        "width": 12
       },
       "report_default": {}
      }
     }
    }
   },
   "outputs": [],
   "source": [
    "def Map_Spec_Plot():\n",
    "    from scipy.spatial import cKDTree\n",
    "    xvals=np.transpose(np.array([o.x for o in Specs]))\n",
    "    yvals=np.transpose(np.array([o.y for o in Specs]))\n",
    "    XY=np.zeros((len(Specs),2))\n",
    "    XY[:,0]=xvals\n",
    "    XY[:,1]=yvals\n",
    "    tree = cKDTree(XY)\n",
    "    dis, ind = tree.query([point.xs,point.ys], k=1)\n",
    "    dfplot(Specs[ind])"
   ]
  },
  {
   "cell_type": "code",
   "execution_count": null,
   "metadata": {
    "extensions": {
     "jupyter_dashboards": {
      "version": 1,
      "views": {
       "grid_default": {
        "hidden": true
       },
       "report_default": {}
      }
     }
    }
   },
   "outputs": [],
   "source": [
    "class Lorentz:\n",
    "    def __init__(self):    \n",
    "        self.model=Model(Single_Lorentz)\n",
    "    def set_bounds(self,ub,lb):\n",
    "        self.model.set_param_hint('a',min=lb[0],max=ub[0])\n",
    "        self.model.set_param_hint('w',min=lb[1],max=ub[1])\n",
    "        self.model.set_param_hint('b',min=lb[2],max=ub[2])\n",
    "    def fit(self,x,y,params):\n",
    "        F=self.model.fit(data=y,x=x,a=params[0],w=params[1],b=params[2])\n",
    "        return F"
   ]
  },
  {
   "cell_type": "code",
   "execution_count": null,
   "metadata": {
    "extensions": {
     "jupyter_dashboards": {
      "version": 1,
      "views": {
       "grid_default": {
        "hidden": true
       },
       "report_default": {}
      }
     }
    }
   },
   "outputs": [],
   "source": [
    "L=Lorentz()"
   ]
  },
  {
   "cell_type": "code",
   "execution_count": null,
   "metadata": {
    "extensions": {
     "jupyter_dashboards": {
      "version": 1,
      "views": {
       "grid_default": {
        "hidden": true
       },
       "report_default": {}
      }
     }
    }
   },
   "outputs": [],
   "source": [
    "def save_spec(s):\n",
    "    with plist:\n",
    "        clear_output()\n",
    "        print('Generating plots\\nThis may take a few seconds...')\n",
    "    fout = open('data/'+cfl[:-4]+'/out.graft','w')\n",
    "    fout.write(' '.join(str(n) for n in s.I)+'\\n')\n",
    "    fout.write(' '.join(str(n) for n in s.W)+'\\n')\n",
    "    fout.write(' '.join(str(n) for n in s.If)+'\\n')\n",
    "    fout.write(' '.join(str(n) for n in s.PG)+'\\n')\n",
    "    fout.write(' '.join(str(n) for n in s.PGp)+'\\n')\n",
    "    fout.write(' '.join(str(n) for n in s.PD)+'\\n')\n",
    "    fout.write(' '.join(str(n) for n in s.IDfit)+'\\n')\n",
    "    fout.write(str(s.Q)+'\\n')\n",
    "    fout.write(' '.join(str(n) for n in s.diffs)+'\\n')\n",
    "    fout.write(str(s.mdi)+'\\n')\n",
    "    fout.write(str(s.md)+'\\n')\n",
    "    fout.write(' '.join(str(n) for n in s.mf)+'\\n')\n",
    "    fout.close()\n",
    "    \n",
    "    fitfile = open('data/spec_fits.csv','a')\n",
    "    fitfile.write(cfl[:-4]+',' + str(s.PD[2])+','+str(s.PD[0])+','+str(s.PD[1])+',' + str(s.PG[2])+','+str(s.PG[0])+','+str(s.PG[1])+',' + str(s.PGp[2])+','+str(s.PGp[0])+','+str(s.PGp[1])+'\\n')\n",
    "    fitfile.close()"
   ]
  },
  {
   "cell_type": "code",
   "execution_count": null,
   "metadata": {
    "extensions": {
     "jupyter_dashboards": {
      "version": 1,
      "views": {
       "grid_default": {
        "hidden": true
       },
       "report_default": {}
      }
     }
    }
   },
   "outputs": [],
   "source": [
    "def save_map(Specs):\n",
    "    with plist:\n",
    "        clear_output()\n",
    "        print('Generating plots\\nThis may take a few seconds...')\n",
    "    ## save all the data to a big output file that can be read in later\n",
    "    fout = open('data/'+cfl[:-4]+'/out.graft','w')\n",
    "    for o in Specs:\n",
    "        fout.write(str(o.x)+'\\n')\n",
    "        fout.write(str(o.y)+'\\n')\n",
    "        fout.write(' '.join(str(n) for n in o.I)+'\\n')\n",
    "        fout.write(' '.join(str(n) for n in o.W)+'\\n')\n",
    "        fout.write(' '.join(str(n) for n in o.If)+'\\n')\n",
    "        fout.write(' '.join(str(n) for n in o.PG)+'\\n')\n",
    "        fout.write(' '.join(str(n) for n in o.PGp)+'\\n')\n",
    "        fout.write(' '.join(str(n) for n in o.PD)+'\\n')\n",
    "        fout.write(' '.join(str(n) for n in o.IDfit)+'\\n')\n",
    "        fout.write(str(o.Q)+'\\n')\n",
    "        fout.write(' '.join(str(n) for n in o.diffs)+'\\n')\n",
    "        fout.write(str(o.mdi)+'\\n')\n",
    "        fout.write(str(o.md)+'\\n')\n",
    "        fout.write(' '.join(str(n) for n in o.mf)+'\\n')\n",
    "    fout.close()\n",
    "    \n",
    "    ##save images to files as images and data files\n",
    "    for i in [1,2,3,4,5,6,7,8,9]:\n",
    "        param.value = i"
   ]
  },
  {
   "cell_type": "code",
   "execution_count": null,
   "metadata": {
    "extensions": {
     "jupyter_dashboards": {
      "version": 1,
      "views": {
       "grid_default": {
        "hidden": true
       },
       "report_default": {}
      }
     }
    }
   },
   "outputs": [],
   "source": [
    "def get_all_file_paths(directory):\n",
    " \n",
    "    # initializing empty file paths list\n",
    "    file_paths = []\n",
    " \n",
    "    # crawling through directory and subdirectories\n",
    "    for root, directories, files in os.walk(directory):\n",
    "        for filename in files:\n",
    "            # join the two strings in order to form the full filepath.\n",
    "            filepath = os.path.join(root, filename)\n",
    "            file_paths.append(filepath)\n",
    " \n",
    "    # returning all file paths\n",
    "    return file_paths        \n",
    " \n",
    "def zip_files(directory):\n",
    "    # path to folder which needs to be zipped\n",
    " \n",
    "    # calling function to get all file paths in the directory\n",
    "    file_paths = get_all_file_paths(directory)\n",
    " \n",
    "    # writing files to a zipfile\n",
    "    with ZipFile('data.zip','w') as zip:\n",
    "        # writing each file one by one\n",
    "        for file in file_paths:\n",
    "            zip.write(file, compress_type = zipfile.ZIP_DEFLATED)\n",
    "\n",
    "def clear_data(directory):  \n",
    "    file_paths = get_all_file_paths(directory)\n",
    "    for file in file_paths:\n",
    "        os.remove(file)\n",
    "        \n",
    "    for directory in os.walk('data/'):\n",
    "        if directory[0] == 'data/' or directory[0] == 'data/raw':\n",
    "            i=1\n",
    "        else:\n",
    "            os.rmdir(directory[0])\n"
   ]
  },
  {
   "cell_type": "code",
   "execution_count": null,
   "metadata": {
    "extensions": {
     "jupyter_dashboards": {
      "version": 1,
      "views": {
       "grid_default": {
        "col": 6,
        "height": 2,
        "hidden": false,
        "row": 2,
        "width": 2
       },
       "report_default": {}
      }
     }
    }
   },
   "outputs": [],
   "source": [
    "d = Download('data.zip', label='Download Data', icon='download', tooltip='DOWNLOAD FILE')   \n",
    "d"
   ]
  },
  {
   "cell_type": "code",
   "execution_count": null,
   "metadata": {
    "extensions": {
     "jupyter_dashboards": {
      "version": 1,
      "views": {
       "grid_default": {
        "hidden": true
       },
       "report_default": {}
      }
     }
    }
   },
   "outputs": [],
   "source": [
    "clear_data('data')"
   ]
  },
  {
   "cell_type": "code",
   "execution_count": null,
   "metadata": {
    "extensions": {
     "jupyter_dashboards": {
      "version": 1,
      "views": {
       "grid_default": {
        "hidden": true
       },
       "report_default": {}
      }
     }
    }
   },
   "outputs": [],
   "source": []
  },
  {
   "cell_type": "markdown",
   "metadata": {},
   "source": [
    "# Testing for PyQt5 Tool"
   ]
  },
  {
   "cell_type": "code",
   "execution_count": 3,
   "metadata": {},
   "outputs": [
    {
     "data": {
      "text/html": [
       "<div>\n",
       "<style scoped>\n",
       "    .dataframe tbody tr th:only-of-type {\n",
       "        vertical-align: middle;\n",
       "    }\n",
       "\n",
       "    .dataframe tbody tr th {\n",
       "        vertical-align: top;\n",
       "    }\n",
       "\n",
       "    .dataframe thead th {\n",
       "        text-align: right;\n",
       "    }\n",
       "</style>\n",
       "<table border=\"1\" class=\"dataframe\">\n",
       "  <thead>\n",
       "    <tr style=\"text-align: right;\">\n",
       "      <th></th>\n",
       "      <th>671.59601</th>\n",
       "      <th>9910</th>\n",
       "    </tr>\n",
       "  </thead>\n",
       "  <tbody>\n",
       "    <tr>\n",
       "      <td>0</td>\n",
       "      <td>675.10547</td>\n",
       "      <td>9860</td>\n",
       "    </tr>\n",
       "    <tr>\n",
       "      <td>1</td>\n",
       "      <td>678.61353</td>\n",
       "      <td>9831</td>\n",
       "    </tr>\n",
       "    <tr>\n",
       "      <td>2</td>\n",
       "      <td>682.12030</td>\n",
       "      <td>9948</td>\n",
       "    </tr>\n",
       "    <tr>\n",
       "      <td>3</td>\n",
       "      <td>685.62567</td>\n",
       "      <td>10011</td>\n",
       "    </tr>\n",
       "    <tr>\n",
       "      <td>4</td>\n",
       "      <td>689.12964</td>\n",
       "      <td>9775</td>\n",
       "    </tr>\n",
       "    <tr>\n",
       "      <td>...</td>\n",
       "      <td>...</td>\n",
       "      <td>...</td>\n",
       "    </tr>\n",
       "    <tr>\n",
       "      <td>1018</td>\n",
       "      <td>3651.33670</td>\n",
       "      <td>3913</td>\n",
       "    </tr>\n",
       "    <tr>\n",
       "      <td>1019</td>\n",
       "      <td>3653.77030</td>\n",
       "      <td>3922</td>\n",
       "    </tr>\n",
       "    <tr>\n",
       "      <td>1020</td>\n",
       "      <td>3656.20460</td>\n",
       "      <td>3894</td>\n",
       "    </tr>\n",
       "    <tr>\n",
       "      <td>1021</td>\n",
       "      <td>3658.63790</td>\n",
       "      <td>3933</td>\n",
       "    </tr>\n",
       "    <tr>\n",
       "      <td>1022</td>\n",
       "      <td>3661.06910</td>\n",
       "      <td>4042</td>\n",
       "    </tr>\n",
       "  </tbody>\n",
       "</table>\n",
       "<p>1023 rows × 2 columns</p>\n",
       "</div>"
      ],
      "text/plain": [
       "       671.59601   9910\n",
       "0      675.10547   9860\n",
       "1      678.61353   9831\n",
       "2      682.12030   9948\n",
       "3      685.62567  10011\n",
       "4      689.12964   9775\n",
       "...          ...    ...\n",
       "1018  3651.33670   3913\n",
       "1019  3653.77030   3922\n",
       "1020  3656.20460   3894\n",
       "1021  3658.63790   3933\n",
       "1022  3661.06910   4042\n",
       "\n",
       "[1023 rows x 2 columns]"
      ]
     },
     "execution_count": 3,
     "metadata": {},
     "output_type": "execute_result"
    }
   ],
   "source": [
    "data=pd.read_table(\"./data/raw/20200630_2_SS.txt\")\n",
    "cols=data.shape[1]\n",
    "rows=data.shape[0]\n",
    "\n",
    "if cols == 1:\n",
    "    #self.clearPast()\n",
    "    data=pd.DataFrame(data.iloc[0:rows/2,0],data.iloc[rows/2:rows,0])\n",
    "    #self.setSingle()\n",
    "elif cols == 2:\n",
    "    if type(data.iloc[0,0]) is str:\n",
    "        #self.clearPast()\n",
    "        data=data.iloc[1:rows,:]\n",
    "        #self.setSingle()\n",
    "    else:\n",
    "        #clearPast()\n",
    "        data=data\n",
    "        #setSingle()\n",
    "else:\n",
    "    del filelist[-1]\n",
    "    data = []\n",
    "    raise ValueError('Please use a single spectrum only')\n",
    "\n",
    "data"
   ]
  },
  {
   "cell_type": "code",
   "execution_count": 4,
   "metadata": {},
   "outputs": [],
   "source": [
    "frequency = []\n",
    "intensity_norm = []\n",
    "I_BL = []\n",
    "\n",
    "frequency = np.array(data.iloc[:,0])\n",
    "intensity = np.array(data.iloc[:,1])\n",
    "length = len(frequency)\n",
    "a = 0\n",
    "for i in range(length):\n",
    "    if frequency[i]<=0:\n",
    "        a = a+1\n",
    "    else:\n",
    "        break\n",
    "frequency = frequency[a:]\n",
    "intensity = intensity[a:]\n",
    "\n",
    "# self.intensity_norm = []\n",
    "for i in intensity:\n",
    "    intensity_norm.append((i-np.min(intensity))/(np.max(intensity)-np.min(intensity)))\n",
    "    \n",
    "#len(intensity_norm)"
   ]
  },
  {
   "cell_type": "code",
   "execution_count": 48,
   "metadata": {},
   "outputs": [
    {
     "name": "stdout",
     "output_type": "stream",
     "text": [
      "bkgpoly: [0.04857095 0.04933206 0.0501008  ... 7.71530644 7.73072091 7.74614257]\n",
      "bkgpoly: [-0.49384249 -0.49873313 -0.50364333 ... -8.1938872  -8.19965575\n",
      " -8.2054129 ]\n",
      "bkgpoly: [1.1555499  1.15923002 1.16288742 ... 0.73881487 0.73899127 0.73917393]\n",
      "polyx: [ 675.10547 2304.5417  3661.0691 ]\n",
      "polyy: [0.5354133  0.53496503 0.01380671]\n"
     ]
    }
   ],
   "source": [
    "y = intensity_norm\n",
    "x = frequency\n",
    "\n",
    "degree = 3\n",
    "\n",
    "n = degree\n",
    "I_raw = np.array(y)\n",
    "W = np.array(x)\n",
    "\n",
    "polyx = np.array([W[0],W[int(len(W)/2)],W[len(W)-1]])\n",
    "polyy = np.array([I_raw[0],I_raw[int(len(W)/2)],I_raw[len(W)-1]])        \n",
    "bkgfit = np.polyfit(W,I_raw,degree)\n",
    "bkgpoly = 0\n",
    "for i in range(n):\n",
    "    bkgpoly = bkgpoly + (bkgfit[i]*W**(n-i))\n",
    "    print('bkgpoly:', bkgpoly)\n",
    "I_raw = I_raw-bkgpoly\n",
    "    \n",
    "m = (I_raw[len(W)-1]-I_raw[0])/(W[len(W)-1]-W[0])\n",
    "b = I_raw[len(W)-1]-m*W[len(W)-1]\n",
    "bkglin = m*W+b\n",
    "\n",
    "I_raw = I_raw-bkglin\n",
    "    \n",
    "I_BL = []\n",
    "I_BL = ((I_raw-np.min(I_raw))/np.max(I_raw-np.min(I_raw)))\n",
    "\n",
    "print('polyx:', polyx)\n",
    "print('polyy:', polyy)"
   ]
  },
  {
   "cell_type": "code",
   "execution_count": 43,
   "metadata": {},
   "outputs": [
    {
     "data": {
      "text/plain": [
       "array([26, 54, 92], dtype=int32)"
      ]
     },
     "execution_count": 43,
     "metadata": {},
     "output_type": "execute_result"
    }
   ],
   "source": [
    "r = np.array([2,3,4])\n",
    "a = 5\n",
    "b = 3\n",
    "a*r**2 + b*r**1"
   ]
  },
  {
   "cell_type": "code",
   "execution_count": 49,
   "metadata": {},
   "outputs": [
    {
     "data": {
      "text/plain": [
       "[<matplotlib.lines.Line2D at 0x66c3bf0>]"
      ]
     },
     "execution_count": 49,
     "metadata": {},
     "output_type": "execute_result"
    },
    {
     "data": {
      "image/png": "[encoded data removed]",
      "text/plain": [
       "<Figure size 432x288 with 1 Axes>"
      ]
     },
     "metadata": {
      "needs_background": "light"
     },
     "output_type": "display_data"
    },
    {
     "data": {
      "image/png": "[encoded data removed]",
      "text/plain": [
       "<Figure size 432x288 with 1 Axes>"
      ]
     },
     "metadata": {
      "needs_background": "light"
     },
     "output_type": "display_data"
    },
    {
     "data": {
      "image/png": "[encoded data removed]",
      "text/plain": [
       "<Figure size 432x288 with 1 Axes>"
      ]
     },
     "metadata": {
      "needs_background": "light"
     },
     "output_type": "display_data"
    }
   ],
   "source": [
    "%matplotlib inline\n",
    "plt.figure(0)\n",
    "plt.plot(frequency, intensity)\n",
    "plt.figure(1)\n",
    "plt.plot(frequency, intensity_norm)\n",
    "plt.figure(2)\n",
    "plt.plot(frequency, I_BL)"
   ]
  },
  {
   "cell_type": "code",
   "execution_count": 47,
   "metadata": {},
   "outputs": [
    {
     "data": {
      "text/plain": [
       "[<matplotlib.lines.Line2D at 0x6641b30>]"
      ]
     },
     "execution_count": 47,
     "metadata": {},
     "output_type": "execute_result"
    },
    {
     "data": {
      "image/png": "[encoded data removed]",
      "text/plain": [
       "<Figure size 432x288 with 1 Axes>"
      ]
     },
     "metadata": {
      "needs_background": "light"
     },
     "output_type": "display_data"
    }
   ],
   "source": [
    "plt.plot(frequency, I_BL)"
   ]
  },
  {
   "cell_type": "code",
   "execution_count": 75,
   "metadata": {},
   "outputs": [
    {
     "data": {
      "text/plain": [
       "'spectest.csv'"
      ]
     },
     "execution_count": 75,
     "metadata": {},
     "output_type": "execute_result"
    }
   ],
   "source": [
    "fpath = \"C:/Users/Test/Documents/UIUC_Offline/Tool/Working/GSA-Raman\\data\\raw\\spectest.csv\"\n",
    "\n",
    "import os\n",
    "fpath = os.path.split(fpath)[-1]\n",
    "fpath"
   ]
  }
 ],
 "metadata": {
  "extensions": {
   "jupyter_dashboards": {
    "activeView": "grid_default",
    "version": 1,
    "views": {
     "grid_default": {
      "cellMargin": 10,
      "defaultCellHeight": 20,
      "maxColumns": 12,
      "name": "grid",
      "type": "grid"
     },
     "report_default": {
      "name": "report",
      "type": "report"
     }
    }
   }
  },
  "kernelspec": {
   "display_name": "Python 3",
   "language": "python",
   "name": "python3"
  },
  "language_info": {
   "codemirror_mode": {
    "name": "ipython",
    "version": 3
   },
   "file_extension": ".py",
   "mimetype": "text/x-python",
   "name": "python",
   "nbconvert_exporter": "python",
   "pygments_lexer": "ipython3",
   "version": "3.7.4"
  },
  "tool": true
 },
 "nbformat": 4,
 "nbformat_minor": 2
}
